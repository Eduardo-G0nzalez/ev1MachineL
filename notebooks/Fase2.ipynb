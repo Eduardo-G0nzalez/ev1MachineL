{
 "cells": [
  {
   "cell_type": "markdown",
   "id": "4665cf78-d3a1-4074-8a91-76467736dea6",
   "metadata": {},
   "source": [
    "# Fase 2: Comprensión de los Datos"
   ]
  },
  {
   "cell_type": "markdown",
   "id": "359f1479-1cde-4abf-86ec-b15124e4d224",
   "metadata": {},
   "source": [
    "## Importación de librerías y carga de datasets"
   ]
  },
  {
   "cell_type": "code",
   "execution_count": 1,
   "id": "3e79ce46-f150-42c1-af44-782cf32dffdd",
   "metadata": {},
   "outputs": [],
   "source": [
    "import pandas as pd\n",
    "import numpy as np\n",
    "import matplotlib\n",
    "import matplotlib.pyplot as plt\n",
    "from sklearn.linear_model import LinearRegression\n",
    "import kedro"
   ]
  },
  {
   "cell_type": "code",
   "execution_count": 5,
   "id": "3328fb5c-3431-48a3-81db-3da5df99c72a",
   "metadata": {},
   "outputs": [
    {
     "data": {
      "text/html": [
       "<pre style=\"white-space:pre;overflow-x:auto;line-height:normal;font-family:Menlo,'DejaVu Sans Mono',consolas,'Courier New',monospace\"><span style=\"color: #7fbfbf; text-decoration-color: #7fbfbf\">[09/13/25 20:16:13] </span><span style=\"color: #000080; text-decoration-color: #000080\">INFO    </span> Kedro is sending anonymous usage data with the sole purpose of improving <a href=\"file://C:\\Users\\edugo\\Desktop\\Workspace\\Universidad\\2025-II\\MachineLearning\\letterboxdml\\.venv\\Lib\\site-packages\\kedro_telemetry\\plugin.py\" target=\"_blank\"><span style=\"color: #7f7f7f; text-decoration-color: #7f7f7f\">plugin.py</span></a><span style=\"color: #7f7f7f; text-decoration-color: #7f7f7f\">:</span><a href=\"file://C:\\Users\\edugo\\Desktop\\Workspace\\Universidad\\2025-II\\MachineLearning\\letterboxdml\\.venv\\Lib\\site-packages\\kedro_telemetry\\plugin.py#243\" target=\"_blank\"><span style=\"color: #7f7f7f; text-decoration-color: #7f7f7f\">243</span></a>\n",
       "<span style=\"color: #7fbfbf; text-decoration-color: #7fbfbf\">                    </span>         the product. No personal data or IP addresses are stored on our side. To <span style=\"color: #7f7f7f; text-decoration-color: #7f7f7f\">             </span>\n",
       "<span style=\"color: #7fbfbf; text-decoration-color: #7fbfbf\">                    </span>         opt out, set the `KEDRO_DISABLE_TELEMETRY` or `DO_NOT_TRACK` environment <span style=\"color: #7f7f7f; text-decoration-color: #7f7f7f\">             </span>\n",
       "<span style=\"color: #7fbfbf; text-decoration-color: #7fbfbf\">                    </span>         variables, or create a `.telemetry` file in the current working          <span style=\"color: #7f7f7f; text-decoration-color: #7f7f7f\">             </span>\n",
       "<span style=\"color: #7fbfbf; text-decoration-color: #7fbfbf\">                    </span>         directory with the contents `consent: false`. To hide this message,      <span style=\"color: #7f7f7f; text-decoration-color: #7f7f7f\">             </span>\n",
       "<span style=\"color: #7fbfbf; text-decoration-color: #7fbfbf\">                    </span>         explicitly grant or deny consent. Read more at                           <span style=\"color: #7f7f7f; text-decoration-color: #7f7f7f\">             </span>\n",
       "<span style=\"color: #7fbfbf; text-decoration-color: #7fbfbf\">                    </span>         <span style=\"color: #0000ff; text-decoration-color: #0000ff; text-decoration: underline\">https://docs.kedro.org/en/stable/configuration/telemetry.html</span>            <span style=\"color: #7f7f7f; text-decoration-color: #7f7f7f\">             </span>\n",
       "</pre>\n"
      ],
      "text/plain": [
       "\u001b[2;36m[09/13/25 20:16:13]\u001b[0m\u001b[2;36m \u001b[0m\u001b[34mINFO    \u001b[0m Kedro is sending anonymous usage data with the sole purpose of improving \u001b]8;id=881412;file://C:\\Users\\edugo\\Desktop\\Workspace\\Universidad\\2025-II\\MachineLearning\\letterboxdml\\.venv\\Lib\\site-packages\\kedro_telemetry\\plugin.py\u001b\\\u001b[2mplugin.py\u001b[0m\u001b]8;;\u001b\\\u001b[2m:\u001b[0m\u001b]8;id=213447;file://C:\\Users\\edugo\\Desktop\\Workspace\\Universidad\\2025-II\\MachineLearning\\letterboxdml\\.venv\\Lib\\site-packages\\kedro_telemetry\\plugin.py#243\u001b\\\u001b[2m243\u001b[0m\u001b]8;;\u001b\\\n",
       "\u001b[2;36m                    \u001b[0m         the product. No personal data or IP addresses are stored on our side. To \u001b[2m             \u001b[0m\n",
       "\u001b[2;36m                    \u001b[0m         opt out, set the `KEDRO_DISABLE_TELEMETRY` or `DO_NOT_TRACK` environment \u001b[2m             \u001b[0m\n",
       "\u001b[2;36m                    \u001b[0m         variables, or create a `.telemetry` file in the current working          \u001b[2m             \u001b[0m\n",
       "\u001b[2;36m                    \u001b[0m         directory with the contents `consent: false`. To hide this message,      \u001b[2m             \u001b[0m\n",
       "\u001b[2;36m                    \u001b[0m         explicitly grant or deny consent. Read more at                           \u001b[2m             \u001b[0m\n",
       "\u001b[2;36m                    \u001b[0m         \u001b[4;94mhttps://docs.kedro.org/en/stable/configuration/telemetry.html\u001b[0m            \u001b[2m             \u001b[0m\n"
      ]
     },
     "metadata": {},
     "output_type": "display_data"
    },
    {
     "data": {
      "text/html": [
       "<pre style=\"white-space:pre;overflow-x:auto;line-height:normal;font-family:Menlo,'DejaVu Sans Mono',consolas,'Courier New',monospace\"><span style=\"color: #7fbfbf; text-decoration-color: #7fbfbf\">                    </span><span style=\"color: #000080; text-decoration-color: #000080\">INFO    </span> Loading data from <span style=\"color: #ff8700; text-decoration-color: #ff8700\">releases</span> <span style=\"font-weight: bold\">(</span>CSVDataset<span style=\"font-weight: bold\">)</span><span style=\"color: #808000; text-decoration-color: #808000\">...</span>                        <a href=\"file://C:\\Users\\edugo\\Desktop\\Workspace\\Universidad\\2025-II\\MachineLearning\\letterboxdml\\.venv\\Lib\\site-packages\\kedro\\io\\data_catalog.py\" target=\"_blank\"><span style=\"color: #7f7f7f; text-decoration-color: #7f7f7f\">data_catalog.py</span></a><span style=\"color: #7f7f7f; text-decoration-color: #7f7f7f\">:</span><a href=\"file://C:\\Users\\edugo\\Desktop\\Workspace\\Universidad\\2025-II\\MachineLearning\\letterboxdml\\.venv\\Lib\\site-packages\\kedro\\io\\data_catalog.py#1046\" target=\"_blank\"><span style=\"color: #7f7f7f; text-decoration-color: #7f7f7f\">1046</span></a>\n",
       "</pre>\n"
      ],
      "text/plain": [
       "\u001b[2;36m                   \u001b[0m\u001b[2;36m \u001b[0m\u001b[34mINFO    \u001b[0m Loading data from \u001b[38;5;208mreleases\u001b[0m \u001b[1m(\u001b[0mCSVDataset\u001b[1m)\u001b[0m\u001b[33m...\u001b[0m                        \u001b]8;id=509229;file://C:\\Users\\edugo\\Desktop\\Workspace\\Universidad\\2025-II\\MachineLearning\\letterboxdml\\.venv\\Lib\\site-packages\\kedro\\io\\data_catalog.py\u001b\\\u001b[2mdata_catalog.py\u001b[0m\u001b]8;;\u001b\\\u001b[2m:\u001b[0m\u001b]8;id=359268;file://C:\\Users\\edugo\\Desktop\\Workspace\\Universidad\\2025-II\\MachineLearning\\letterboxdml\\.venv\\Lib\\site-packages\\kedro\\io\\data_catalog.py#1046\u001b\\\u001b[2m1046\u001b[0m\u001b]8;;\u001b\\\n"
      ]
     },
     "metadata": {},
     "output_type": "display_data"
    },
    {
     "data": {
      "text/html": [
       "<pre style=\"white-space:pre;overflow-x:auto;line-height:normal;font-family:Menlo,'DejaVu Sans Mono',consolas,'Courier New',monospace\"><span style=\"color: #7fbfbf; text-decoration-color: #7fbfbf\">[09/13/25 20:16:14] </span><span style=\"color: #000080; text-decoration-color: #000080\">INFO    </span> Loading data from <span style=\"color: #ff8700; text-decoration-color: #ff8700\">genres</span> <span style=\"font-weight: bold\">(</span>CSVDataset<span style=\"font-weight: bold\">)</span><span style=\"color: #808000; text-decoration-color: #808000\">...</span>                          <a href=\"file://C:\\Users\\edugo\\Desktop\\Workspace\\Universidad\\2025-II\\MachineLearning\\letterboxdml\\.venv\\Lib\\site-packages\\kedro\\io\\data_catalog.py\" target=\"_blank\"><span style=\"color: #7f7f7f; text-decoration-color: #7f7f7f\">data_catalog.py</span></a><span style=\"color: #7f7f7f; text-decoration-color: #7f7f7f\">:</span><a href=\"file://C:\\Users\\edugo\\Desktop\\Workspace\\Universidad\\2025-II\\MachineLearning\\letterboxdml\\.venv\\Lib\\site-packages\\kedro\\io\\data_catalog.py#1046\" target=\"_blank\"><span style=\"color: #7f7f7f; text-decoration-color: #7f7f7f\">1046</span></a>\n",
       "</pre>\n"
      ],
      "text/plain": [
       "\u001b[2;36m[09/13/25 20:16:14]\u001b[0m\u001b[2;36m \u001b[0m\u001b[34mINFO    \u001b[0m Loading data from \u001b[38;5;208mgenres\u001b[0m \u001b[1m(\u001b[0mCSVDataset\u001b[1m)\u001b[0m\u001b[33m...\u001b[0m                          \u001b]8;id=991126;file://C:\\Users\\edugo\\Desktop\\Workspace\\Universidad\\2025-II\\MachineLearning\\letterboxdml\\.venv\\Lib\\site-packages\\kedro\\io\\data_catalog.py\u001b\\\u001b[2mdata_catalog.py\u001b[0m\u001b]8;;\u001b\\\u001b[2m:\u001b[0m\u001b]8;id=714818;file://C:\\Users\\edugo\\Desktop\\Workspace\\Universidad\\2025-II\\MachineLearning\\letterboxdml\\.venv\\Lib\\site-packages\\kedro\\io\\data_catalog.py#1046\u001b\\\u001b[2m1046\u001b[0m\u001b]8;;\u001b\\\n"
      ]
     },
     "metadata": {},
     "output_type": "display_data"
    },
    {
     "data": {
      "text/html": [
       "<pre style=\"white-space:pre;overflow-x:auto;line-height:normal;font-family:Menlo,'DejaVu Sans Mono',consolas,'Courier New',monospace\"><span style=\"color: #7fbfbf; text-decoration-color: #7fbfbf\">                    </span><span style=\"color: #000080; text-decoration-color: #000080\">INFO    </span> Loading data from <span style=\"color: #ff8700; text-decoration-color: #ff8700\">countries</span> <span style=\"font-weight: bold\">(</span>CSVDataset<span style=\"font-weight: bold\">)</span><span style=\"color: #808000; text-decoration-color: #808000\">...</span>                       <a href=\"file://C:\\Users\\edugo\\Desktop\\Workspace\\Universidad\\2025-II\\MachineLearning\\letterboxdml\\.venv\\Lib\\site-packages\\kedro\\io\\data_catalog.py\" target=\"_blank\"><span style=\"color: #7f7f7f; text-decoration-color: #7f7f7f\">data_catalog.py</span></a><span style=\"color: #7f7f7f; text-decoration-color: #7f7f7f\">:</span><a href=\"file://C:\\Users\\edugo\\Desktop\\Workspace\\Universidad\\2025-II\\MachineLearning\\letterboxdml\\.venv\\Lib\\site-packages\\kedro\\io\\data_catalog.py#1046\" target=\"_blank\"><span style=\"color: #7f7f7f; text-decoration-color: #7f7f7f\">1046</span></a>\n",
       "</pre>\n"
      ],
      "text/plain": [
       "\u001b[2;36m                   \u001b[0m\u001b[2;36m \u001b[0m\u001b[34mINFO    \u001b[0m Loading data from \u001b[38;5;208mcountries\u001b[0m \u001b[1m(\u001b[0mCSVDataset\u001b[1m)\u001b[0m\u001b[33m...\u001b[0m                       \u001b]8;id=683214;file://C:\\Users\\edugo\\Desktop\\Workspace\\Universidad\\2025-II\\MachineLearning\\letterboxdml\\.venv\\Lib\\site-packages\\kedro\\io\\data_catalog.py\u001b\\\u001b[2mdata_catalog.py\u001b[0m\u001b]8;;\u001b\\\u001b[2m:\u001b[0m\u001b]8;id=451819;file://C:\\Users\\edugo\\Desktop\\Workspace\\Universidad\\2025-II\\MachineLearning\\letterboxdml\\.venv\\Lib\\site-packages\\kedro\\io\\data_catalog.py#1046\u001b\\\u001b[2m1046\u001b[0m\u001b]8;;\u001b\\\n"
      ]
     },
     "metadata": {},
     "output_type": "display_data"
    },
    {
     "name": "stdout",
     "output_type": "stream",
     "text": [
      "dataset releases cargado\n",
      "dataset genres cargado\n",
      "dataset countries cargado\n"
     ]
    }
   ],
   "source": [
    "from pathlib import Path\n",
    "import sys, tomllib\n",
    "from kedro.framework.project import configure_project\n",
    "from kedro.framework.session import KedroSession\n",
    "\n",
    "# Detecta la raíz del proyecto y el package_name\n",
    "project_path = Path.cwd() if (Path.cwd() / \"pyproject.toml\").exists() else Path.cwd().parent\n",
    "with open(project_path / \"pyproject.toml\", \"rb\") as f:\n",
    "    package_name = tomllib.load(f)[\"tool\"][\"kedro\"][\"package_name\"]\n",
    "\n",
    "# Asegura que src/ esté importable\n",
    "sys.path.insert(0, str(project_path / \"src\"))\n",
    "\n",
    "# Inicializa Kedro\n",
    "configure_project(package_name)\n",
    "session = KedroSession.create(project_path=project_path)\n",
    "context = session.load_context()\n",
    "catalog = context.catalog\n",
    "\n",
    "# Carga todos los CSV y muestra shapes\n",
    "names = [\"releases\",\"genres\", \"countries\"]\n",
    "dfs = {name: catalog.load(name) for name in names}\n",
    "for name in dfs:\n",
    "    print(f\"dataset {name} cargado\")"
   ]
  },
  {
   "cell_type": "markdown",
   "id": "c770255e-a1d5-462a-8cda-2f609b98e60f",
   "metadata": {},
   "source": [
    "## Recolectar datos iniciales (3 datasets)"
   ]
  },
  {
   "cell_type": "code",
   "execution_count": 8,
   "id": "e7d30c76-2b01-4d01-9f1a-1fb38edad451",
   "metadata": {},
   "outputs": [
    {
     "name": "stdout",
     "output_type": "stream",
     "text": [
      "\n",
      "=== DATASET: releases ===\n",
      "shape: (1332782, 5)\n"
     ]
    },
    {
     "data": {
      "text/html": [
       "<pre style=\"white-space:pre;overflow-x:auto;line-height:normal;font-family:Menlo,'DejaVu Sans Mono',consolas,'Courier New',monospace\"></pre>\n"
      ],
      "text/plain": []
     },
     "metadata": {},
     "output_type": "display_data"
    },
    {
     "data": {
      "text/html": [
       "<div>\n",
       "<style scoped>\n",
       "    .dataframe tbody tr th:only-of-type {\n",
       "        vertical-align: middle;\n",
       "    }\n",
       "\n",
       "    .dataframe tbody tr th {\n",
       "        vertical-align: top;\n",
       "    }\n",
       "\n",
       "    .dataframe thead th {\n",
       "        text-align: right;\n",
       "    }\n",
       "</style>\n",
       "<table border=\"1\" class=\"dataframe\">\n",
       "  <thead>\n",
       "    <tr style=\"text-align: right;\">\n",
       "      <th></th>\n",
       "      <th>id</th>\n",
       "      <th>country</th>\n",
       "      <th>date</th>\n",
       "      <th>type</th>\n",
       "      <th>rating</th>\n",
       "    </tr>\n",
       "  </thead>\n",
       "  <tbody>\n",
       "    <tr>\n",
       "      <th>0</th>\n",
       "      <td>1000001</td>\n",
       "      <td>Andorra</td>\n",
       "      <td>2023-07-21</td>\n",
       "      <td>Theatrical</td>\n",
       "      <td>NaN</td>\n",
       "    </tr>\n",
       "    <tr>\n",
       "      <th>1</th>\n",
       "      <td>1000001</td>\n",
       "      <td>Argentina</td>\n",
       "      <td>2023-07-20</td>\n",
       "      <td>Theatrical</td>\n",
       "      <td>ATP</td>\n",
       "    </tr>\n",
       "    <tr>\n",
       "      <th>2</th>\n",
       "      <td>1000001</td>\n",
       "      <td>Australia</td>\n",
       "      <td>2023-07-19</td>\n",
       "      <td>Theatrical</td>\n",
       "      <td>PG</td>\n",
       "    </tr>\n",
       "    <tr>\n",
       "      <th>3</th>\n",
       "      <td>1000001</td>\n",
       "      <td>Australia</td>\n",
       "      <td>2023-10-01</td>\n",
       "      <td>Digital</td>\n",
       "      <td>PG</td>\n",
       "    </tr>\n",
       "    <tr>\n",
       "      <th>4</th>\n",
       "      <td>1000001</td>\n",
       "      <td>Austria</td>\n",
       "      <td>2023-07-20</td>\n",
       "      <td>Theatrical</td>\n",
       "      <td>NaN</td>\n",
       "    </tr>\n",
       "  </tbody>\n",
       "</table>\n",
       "</div>"
      ],
      "text/plain": [
       "\n",
       "        id    country        date        type rating\n",
       "\u001b[1;36m0\u001b[0m  \u001b[1;36m1000001\u001b[0m    Andorra  \u001b[1;36m2023\u001b[0m-\u001b[1;36m07\u001b[0m-\u001b[1;36m21\u001b[0m  Theatrical    NaN\n",
       "\u001b[1;36m1\u001b[0m  \u001b[1;36m1000001\u001b[0m  Argentina  \u001b[1;36m2023\u001b[0m-\u001b[1;36m07\u001b[0m-\u001b[1;36m20\u001b[0m  Theatrical    ATP\n",
       "\u001b[1;36m2\u001b[0m  \u001b[1;36m1000001\u001b[0m  Australia  \u001b[1;36m2023\u001b[0m-\u001b[1;36m07\u001b[0m-\u001b[1;36m19\u001b[0m  Theatrical     PG\n",
       "\u001b[1;36m3\u001b[0m  \u001b[1;36m1000001\u001b[0m  Australia  \u001b[1;36m2023\u001b[0m-\u001b[1;36m10\u001b[0m-\u001b[1;36m01\u001b[0m     Digital     PG\n",
       "\u001b[1;36m4\u001b[0m  \u001b[1;36m1000001\u001b[0m    Austria  \u001b[1;36m2023\u001b[0m-\u001b[1;36m07\u001b[0m-\u001b[1;36m20\u001b[0m  Theatrical    NaN"
      ]
     },
     "metadata": {},
     "output_type": "display_data"
    },
    {
     "name": "stdout",
     "output_type": "stream",
     "text": [
      "dtypes por columna:\n"
     ]
    },
    {
     "data": {
      "text/html": [
       "<pre style=\"white-space:pre;overflow-x:auto;line-height:normal;font-family:Menlo,'DejaVu Sans Mono',consolas,'Courier New',monospace\"></pre>\n"
      ],
      "text/plain": []
     },
     "metadata": {},
     "output_type": "display_data"
    },
    {
     "data": {
      "text/html": [
       "<div>\n",
       "<style scoped>\n",
       "    .dataframe tbody tr th:only-of-type {\n",
       "        vertical-align: middle;\n",
       "    }\n",
       "\n",
       "    .dataframe tbody tr th {\n",
       "        vertical-align: top;\n",
       "    }\n",
       "\n",
       "    .dataframe thead th {\n",
       "        text-align: right;\n",
       "    }\n",
       "</style>\n",
       "<table border=\"1\" class=\"dataframe\">\n",
       "  <thead>\n",
       "    <tr style=\"text-align: right;\">\n",
       "      <th></th>\n",
       "      <th>column</th>\n",
       "      <th>dtype</th>\n",
       "    </tr>\n",
       "  </thead>\n",
       "  <tbody>\n",
       "    <tr>\n",
       "      <th>id</th>\n",
       "      <td>id</td>\n",
       "      <td>int64</td>\n",
       "    </tr>\n",
       "    <tr>\n",
       "      <th>country</th>\n",
       "      <td>country</td>\n",
       "      <td>object</td>\n",
       "    </tr>\n",
       "    <tr>\n",
       "      <th>date</th>\n",
       "      <td>date</td>\n",
       "      <td>object</td>\n",
       "    </tr>\n",
       "    <tr>\n",
       "      <th>type</th>\n",
       "      <td>type</td>\n",
       "      <td>object</td>\n",
       "    </tr>\n",
       "    <tr>\n",
       "      <th>rating</th>\n",
       "      <td>rating</td>\n",
       "      <td>object</td>\n",
       "    </tr>\n",
       "  </tbody>\n",
       "</table>\n",
       "</div>"
      ],
      "text/plain": [
       "\n",
       "          column   dtype\n",
       "id            id   int64\n",
       "country  country  object\n",
       "date        date  object\n",
       "type        type  object\n",
       "rating    rating  object"
      ]
     },
     "metadata": {},
     "output_type": "display_data"
    },
    {
     "name": "stdout",
     "output_type": "stream",
     "text": [
      "\n",
      "=== DATASET: genres ===\n",
      "shape: (1046849, 2)\n"
     ]
    },
    {
     "data": {
      "text/html": [
       "<pre style=\"white-space:pre;overflow-x:auto;line-height:normal;font-family:Menlo,'DejaVu Sans Mono',consolas,'Courier New',monospace\"></pre>\n"
      ],
      "text/plain": []
     },
     "metadata": {},
     "output_type": "display_data"
    },
    {
     "data": {
      "text/html": [
       "<div>\n",
       "<style scoped>\n",
       "    .dataframe tbody tr th:only-of-type {\n",
       "        vertical-align: middle;\n",
       "    }\n",
       "\n",
       "    .dataframe tbody tr th {\n",
       "        vertical-align: top;\n",
       "    }\n",
       "\n",
       "    .dataframe thead th {\n",
       "        text-align: right;\n",
       "    }\n",
       "</style>\n",
       "<table border=\"1\" class=\"dataframe\">\n",
       "  <thead>\n",
       "    <tr style=\"text-align: right;\">\n",
       "      <th></th>\n",
       "      <th>id</th>\n",
       "      <th>genre</th>\n",
       "    </tr>\n",
       "  </thead>\n",
       "  <tbody>\n",
       "    <tr>\n",
       "      <th>0</th>\n",
       "      <td>1000001</td>\n",
       "      <td>Comedy</td>\n",
       "    </tr>\n",
       "    <tr>\n",
       "      <th>1</th>\n",
       "      <td>1000001</td>\n",
       "      <td>Adventure</td>\n",
       "    </tr>\n",
       "    <tr>\n",
       "      <th>2</th>\n",
       "      <td>1000002</td>\n",
       "      <td>Comedy</td>\n",
       "    </tr>\n",
       "    <tr>\n",
       "      <th>3</th>\n",
       "      <td>1000002</td>\n",
       "      <td>Thriller</td>\n",
       "    </tr>\n",
       "    <tr>\n",
       "      <th>4</th>\n",
       "      <td>1000002</td>\n",
       "      <td>Drama</td>\n",
       "    </tr>\n",
       "  </tbody>\n",
       "</table>\n",
       "</div>"
      ],
      "text/plain": [
       "\n",
       "        id      genre\n",
       "\u001b[1;36m0\u001b[0m  \u001b[1;36m1000001\u001b[0m     Comedy\n",
       "\u001b[1;36m1\u001b[0m  \u001b[1;36m1000001\u001b[0m  Adventure\n",
       "\u001b[1;36m2\u001b[0m  \u001b[1;36m1000002\u001b[0m     Comedy\n",
       "\u001b[1;36m3\u001b[0m  \u001b[1;36m1000002\u001b[0m   Thriller\n",
       "\u001b[1;36m4\u001b[0m  \u001b[1;36m1000002\u001b[0m      Drama"
      ]
     },
     "metadata": {},
     "output_type": "display_data"
    },
    {
     "name": "stdout",
     "output_type": "stream",
     "text": [
      "dtypes por columna:\n"
     ]
    },
    {
     "data": {
      "text/html": [
       "<pre style=\"white-space:pre;overflow-x:auto;line-height:normal;font-family:Menlo,'DejaVu Sans Mono',consolas,'Courier New',monospace\"></pre>\n"
      ],
      "text/plain": []
     },
     "metadata": {},
     "output_type": "display_data"
    },
    {
     "data": {
      "text/html": [
       "<div>\n",
       "<style scoped>\n",
       "    .dataframe tbody tr th:only-of-type {\n",
       "        vertical-align: middle;\n",
       "    }\n",
       "\n",
       "    .dataframe tbody tr th {\n",
       "        vertical-align: top;\n",
       "    }\n",
       "\n",
       "    .dataframe thead th {\n",
       "        text-align: right;\n",
       "    }\n",
       "</style>\n",
       "<table border=\"1\" class=\"dataframe\">\n",
       "  <thead>\n",
       "    <tr style=\"text-align: right;\">\n",
       "      <th></th>\n",
       "      <th>column</th>\n",
       "      <th>dtype</th>\n",
       "    </tr>\n",
       "  </thead>\n",
       "  <tbody>\n",
       "    <tr>\n",
       "      <th>id</th>\n",
       "      <td>id</td>\n",
       "      <td>int64</td>\n",
       "    </tr>\n",
       "    <tr>\n",
       "      <th>genre</th>\n",
       "      <td>genre</td>\n",
       "      <td>object</td>\n",
       "    </tr>\n",
       "  </tbody>\n",
       "</table>\n",
       "</div>"
      ],
      "text/plain": [
       "\n",
       "      column   dtype\n",
       "id        id   int64\n",
       "genre  genre  object"
      ]
     },
     "metadata": {},
     "output_type": "display_data"
    },
    {
     "name": "stdout",
     "output_type": "stream",
     "text": [
      "\n",
      "=== DATASET: countries ===\n",
      "shape: (693476, 2)\n"
     ]
    },
    {
     "data": {
      "text/html": [
       "<pre style=\"white-space:pre;overflow-x:auto;line-height:normal;font-family:Menlo,'DejaVu Sans Mono',consolas,'Courier New',monospace\"></pre>\n"
      ],
      "text/plain": []
     },
     "metadata": {},
     "output_type": "display_data"
    },
    {
     "data": {
      "text/html": [
       "<div>\n",
       "<style scoped>\n",
       "    .dataframe tbody tr th:only-of-type {\n",
       "        vertical-align: middle;\n",
       "    }\n",
       "\n",
       "    .dataframe tbody tr th {\n",
       "        vertical-align: top;\n",
       "    }\n",
       "\n",
       "    .dataframe thead th {\n",
       "        text-align: right;\n",
       "    }\n",
       "</style>\n",
       "<table border=\"1\" class=\"dataframe\">\n",
       "  <thead>\n",
       "    <tr style=\"text-align: right;\">\n",
       "      <th></th>\n",
       "      <th>id</th>\n",
       "      <th>country</th>\n",
       "    </tr>\n",
       "  </thead>\n",
       "  <tbody>\n",
       "    <tr>\n",
       "      <th>0</th>\n",
       "      <td>1000001</td>\n",
       "      <td>UK</td>\n",
       "    </tr>\n",
       "    <tr>\n",
       "      <th>1</th>\n",
       "      <td>1000001</td>\n",
       "      <td>USA</td>\n",
       "    </tr>\n",
       "    <tr>\n",
       "      <th>2</th>\n",
       "      <td>1000002</td>\n",
       "      <td>South Korea</td>\n",
       "    </tr>\n",
       "    <tr>\n",
       "      <th>3</th>\n",
       "      <td>1000003</td>\n",
       "      <td>USA</td>\n",
       "    </tr>\n",
       "    <tr>\n",
       "      <th>4</th>\n",
       "      <td>1000004</td>\n",
       "      <td>Germany</td>\n",
       "    </tr>\n",
       "  </tbody>\n",
       "</table>\n",
       "</div>"
      ],
      "text/plain": [
       "\n",
       "        id      country\n",
       "\u001b[1;36m0\u001b[0m  \u001b[1;36m1000001\u001b[0m           UK\n",
       "\u001b[1;36m1\u001b[0m  \u001b[1;36m1000001\u001b[0m          USA\n",
       "\u001b[1;36m2\u001b[0m  \u001b[1;36m1000002\u001b[0m  South Korea\n",
       "\u001b[1;36m3\u001b[0m  \u001b[1;36m1000003\u001b[0m          USA\n",
       "\u001b[1;36m4\u001b[0m  \u001b[1;36m1000004\u001b[0m      Germany"
      ]
     },
     "metadata": {},
     "output_type": "display_data"
    },
    {
     "name": "stdout",
     "output_type": "stream",
     "text": [
      "dtypes por columna:\n"
     ]
    },
    {
     "data": {
      "text/html": [
       "<pre style=\"white-space:pre;overflow-x:auto;line-height:normal;font-family:Menlo,'DejaVu Sans Mono',consolas,'Courier New',monospace\"></pre>\n"
      ],
      "text/plain": []
     },
     "metadata": {},
     "output_type": "display_data"
    },
    {
     "data": {
      "text/html": [
       "<div>\n",
       "<style scoped>\n",
       "    .dataframe tbody tr th:only-of-type {\n",
       "        vertical-align: middle;\n",
       "    }\n",
       "\n",
       "    .dataframe tbody tr th {\n",
       "        vertical-align: top;\n",
       "    }\n",
       "\n",
       "    .dataframe thead th {\n",
       "        text-align: right;\n",
       "    }\n",
       "</style>\n",
       "<table border=\"1\" class=\"dataframe\">\n",
       "  <thead>\n",
       "    <tr style=\"text-align: right;\">\n",
       "      <th></th>\n",
       "      <th>column</th>\n",
       "      <th>dtype</th>\n",
       "    </tr>\n",
       "  </thead>\n",
       "  <tbody>\n",
       "    <tr>\n",
       "      <th>id</th>\n",
       "      <td>id</td>\n",
       "      <td>int64</td>\n",
       "    </tr>\n",
       "    <tr>\n",
       "      <th>country</th>\n",
       "      <td>country</td>\n",
       "      <td>object</td>\n",
       "    </tr>\n",
       "  </tbody>\n",
       "</table>\n",
       "</div>"
      ],
      "text/plain": [
       "\n",
       "          column   dtype\n",
       "id            id   int64\n",
       "country  country  object"
      ]
     },
     "metadata": {},
     "output_type": "display_data"
    }
   ],
   "source": [
    "from IPython.display import display\n",
    "\n",
    "for name in [\"releases\", \"genres\", \"countries\"]:\n",
    "    df = dfs[name]  # ya cargado en tu celda anterior\n",
    "    print(f\"\\n=== DATASET: {name} ===\")\n",
    "    print(\"shape:\", df.shape)\n",
    "    display(df.head(5))\n",
    "\n",
    "    # Tipos de datos de todas las variables (columnas)\n",
    "    schema = pd.DataFrame({\n",
    "        \"column\": df.columns,\n",
    "        \"dtype\": df.dtypes.astype(str)\n",
    "    })\n",
    "    print(\"dtypes por columna:\")\n",
    "    display(schema)"
   ]
  },
  {
   "cell_type": "markdown",
   "id": "9fef6370-c890-4383-84d8-9b11a7894ee2",
   "metadata": {
    "jp-MarkdownHeadingCollapsed": true
   },
   "source": [
    "## Descripción de los datos"
   ]
  },
  {
   "cell_type": "markdown",
   "id": "2b574b64-ae17-4e5f-b660-1c0e88406d9b",
   "metadata": {},
   "source": [
    "### Resumen de los dataset\n",
    "\n",
    "*   **releases** — _(1,332,782 filas; 5 columnas)_: registros de **eventos de estreno** por película y país, con tipo de lanzamiento y clasificación.\n",
    "    \n",
    "*   **genres** — _(1,046,849 filas; 2 columnas)_: asignaciones **película–género** (una película puede tener varios géneros).\n",
    "    \n",
    "*   **countries** — _(693,476 filas; 2 columnas)_: asignaciones **película–país** (una película puede estar asociada a múltiples países).\n",
    "    \n",
    "Granularidad y llaves\n",
    "    \n",
    "*   En los tres datasets, **id** es el **identificador de película** (clave para unir)."
   ]
  },
  {
   "cell_type": "markdown",
   "id": "d0c59ef5-f71c-4cf2-a243-8dfc05a8a6c7",
   "metadata": {},
   "source": [
    "### Descripción de variables por dataset"
   ]
  },
  {
   "cell_type": "markdown",
   "id": "10cae093-97ea-469e-9e3d-ac486ab17bd2",
   "metadata": {},
   "source": [
    "**releases (id, country, date, type, rating)**\n",
    "\n",
    "*   **id** _(int64)_: identificador de película.\n",
    "    \n",
    "*   **country** _(object)_: país donde ocurre el **evento de estreno** (ej.: _Andorra, Argentina, Australia, Austria_).\n",
    "    \n",
    "*   **date** _(object)_: **fecha del estreno** (actualmente como texto; requiere parseo a datetime para análisis temporal).\n",
    "    \n",
    "*   **type** _(object)_: **tipo de lanzamiento** (ej.: _Theatrical, Digital_).\n",
    "    \n",
    "*   **rating** _(object / categórico, con ausentes)_: **clasificación**/certificación local (ej.: _ATP, PG_; también puede estar vacío/NaN).\n",
    "    \n",
    "**genres (id, genre)**\n",
    "\n",
    "*   **id** _(int64)_: identificador de película.\n",
    "    \n",
    "*   **genre** _(object)_: nombre del **género** (ej.: _Comedy, Adventure, Thriller, Drama_).\n",
    "    \n",
    "**countries (id, country)**\n",
    "\n",
    "*   **id** _(int64)_: identificador de película.\n",
    "    \n",
    "*   **country** _(object)_: país **asociado** a la película (ej.: _USA, UK, Germany, South Korea_)."
   ]
  },
  {
   "cell_type": "markdown",
   "id": "34f6c581-a7d1-4393-a267-ba01ce498823",
   "metadata": {
    "jp-MarkdownHeadingCollapsed": true
   },
   "source": [
    "# EDA"
   ]
  },
  {
   "cell_type": "code",
   "execution_count": 9,
   "id": "0b4d0efa-1634-4b45-987f-331f88780f3e",
   "metadata": {},
   "outputs": [
    {
     "name": "stdout",
     "output_type": "stream",
     "text": [
      "\n",
      "=== DATASET: releases ===\n",
      "shape: (1332782, 5)\n"
     ]
    },
    {
     "data": {
      "text/html": [
       "<pre style=\"white-space:pre;overflow-x:auto;line-height:normal;font-family:Menlo,'DejaVu Sans Mono',consolas,'Courier New',monospace\"></pre>\n"
      ],
      "text/plain": []
     },
     "metadata": {},
     "output_type": "display_data"
    },
    {
     "data": {
      "text/html": [
       "<div>\n",
       "<style scoped>\n",
       "    .dataframe tbody tr th:only-of-type {\n",
       "        vertical-align: middle;\n",
       "    }\n",
       "\n",
       "    .dataframe tbody tr th {\n",
       "        vertical-align: top;\n",
       "    }\n",
       "\n",
       "    .dataframe thead th {\n",
       "        text-align: right;\n",
       "    }\n",
       "</style>\n",
       "<table border=\"1\" class=\"dataframe\">\n",
       "  <thead>\n",
       "    <tr style=\"text-align: right;\">\n",
       "      <th></th>\n",
       "      <th>id</th>\n",
       "      <th>country</th>\n",
       "      <th>date</th>\n",
       "      <th>type</th>\n",
       "      <th>rating</th>\n",
       "    </tr>\n",
       "  </thead>\n",
       "  <tbody>\n",
       "    <tr>\n",
       "      <th>0</th>\n",
       "      <td>1000001</td>\n",
       "      <td>Andorra</td>\n",
       "      <td>2023-07-21</td>\n",
       "      <td>Theatrical</td>\n",
       "      <td>NaN</td>\n",
       "    </tr>\n",
       "    <tr>\n",
       "      <th>1</th>\n",
       "      <td>1000001</td>\n",
       "      <td>Argentina</td>\n",
       "      <td>2023-07-20</td>\n",
       "      <td>Theatrical</td>\n",
       "      <td>ATP</td>\n",
       "    </tr>\n",
       "    <tr>\n",
       "      <th>2</th>\n",
       "      <td>1000001</td>\n",
       "      <td>Australia</td>\n",
       "      <td>2023-07-19</td>\n",
       "      <td>Theatrical</td>\n",
       "      <td>PG</td>\n",
       "    </tr>\n",
       "    <tr>\n",
       "      <th>3</th>\n",
       "      <td>1000001</td>\n",
       "      <td>Australia</td>\n",
       "      <td>2023-10-01</td>\n",
       "      <td>Digital</td>\n",
       "      <td>PG</td>\n",
       "    </tr>\n",
       "    <tr>\n",
       "      <th>4</th>\n",
       "      <td>1000001</td>\n",
       "      <td>Austria</td>\n",
       "      <td>2023-07-20</td>\n",
       "      <td>Theatrical</td>\n",
       "      <td>NaN</td>\n",
       "    </tr>\n",
       "  </tbody>\n",
       "</table>\n",
       "</div>"
      ],
      "text/plain": [
       "\n",
       "        id    country        date        type rating\n",
       "\u001b[1;36m0\u001b[0m  \u001b[1;36m1000001\u001b[0m    Andorra  \u001b[1;36m2023\u001b[0m-\u001b[1;36m07\u001b[0m-\u001b[1;36m21\u001b[0m  Theatrical    NaN\n",
       "\u001b[1;36m1\u001b[0m  \u001b[1;36m1000001\u001b[0m  Argentina  \u001b[1;36m2023\u001b[0m-\u001b[1;36m07\u001b[0m-\u001b[1;36m20\u001b[0m  Theatrical    ATP\n",
       "\u001b[1;36m2\u001b[0m  \u001b[1;36m1000001\u001b[0m  Australia  \u001b[1;36m2023\u001b[0m-\u001b[1;36m07\u001b[0m-\u001b[1;36m19\u001b[0m  Theatrical     PG\n",
       "\u001b[1;36m3\u001b[0m  \u001b[1;36m1000001\u001b[0m  Australia  \u001b[1;36m2023\u001b[0m-\u001b[1;36m10\u001b[0m-\u001b[1;36m01\u001b[0m     Digital     PG\n",
       "\u001b[1;36m4\u001b[0m  \u001b[1;36m1000001\u001b[0m    Austria  \u001b[1;36m2023\u001b[0m-\u001b[1;36m07\u001b[0m-\u001b[1;36m20\u001b[0m  Theatrical    NaN"
      ]
     },
     "metadata": {},
     "output_type": "display_data"
    },
    {
     "name": "stdout",
     "output_type": "stream",
     "text": [
      "dtypes por columna:\n"
     ]
    },
    {
     "data": {
      "text/html": [
       "<pre style=\"white-space:pre;overflow-x:auto;line-height:normal;font-family:Menlo,'DejaVu Sans Mono',consolas,'Courier New',monospace\"></pre>\n"
      ],
      "text/plain": []
     },
     "metadata": {},
     "output_type": "display_data"
    },
    {
     "data": {
      "text/html": [
       "<div>\n",
       "<style scoped>\n",
       "    .dataframe tbody tr th:only-of-type {\n",
       "        vertical-align: middle;\n",
       "    }\n",
       "\n",
       "    .dataframe tbody tr th {\n",
       "        vertical-align: top;\n",
       "    }\n",
       "\n",
       "    .dataframe thead th {\n",
       "        text-align: right;\n",
       "    }\n",
       "</style>\n",
       "<table border=\"1\" class=\"dataframe\">\n",
       "  <thead>\n",
       "    <tr style=\"text-align: right;\">\n",
       "      <th></th>\n",
       "      <th>column</th>\n",
       "      <th>dtype</th>\n",
       "    </tr>\n",
       "  </thead>\n",
       "  <tbody>\n",
       "    <tr>\n",
       "      <th>id</th>\n",
       "      <td>id</td>\n",
       "      <td>int64</td>\n",
       "    </tr>\n",
       "    <tr>\n",
       "      <th>country</th>\n",
       "      <td>country</td>\n",
       "      <td>object</td>\n",
       "    </tr>\n",
       "    <tr>\n",
       "      <th>date</th>\n",
       "      <td>date</td>\n",
       "      <td>object</td>\n",
       "    </tr>\n",
       "    <tr>\n",
       "      <th>type</th>\n",
       "      <td>type</td>\n",
       "      <td>object</td>\n",
       "    </tr>\n",
       "    <tr>\n",
       "      <th>rating</th>\n",
       "      <td>rating</td>\n",
       "      <td>object</td>\n",
       "    </tr>\n",
       "  </tbody>\n",
       "</table>\n",
       "</div>"
      ],
      "text/plain": [
       "\n",
       "          column   dtype\n",
       "id            id   int64\n",
       "country  country  object\n",
       "date        date  object\n",
       "type        type  object\n",
       "rating    rating  object"
      ]
     },
     "metadata": {},
     "output_type": "display_data"
    },
    {
     "name": "stdout",
     "output_type": "stream",
     "text": [
      "\n",
      "=== DATASET: genres ===\n",
      "shape: (1046849, 2)\n"
     ]
    },
    {
     "data": {
      "text/html": [
       "<pre style=\"white-space:pre;overflow-x:auto;line-height:normal;font-family:Menlo,'DejaVu Sans Mono',consolas,'Courier New',monospace\"></pre>\n"
      ],
      "text/plain": []
     },
     "metadata": {},
     "output_type": "display_data"
    },
    {
     "data": {
      "text/html": [
       "<div>\n",
       "<style scoped>\n",
       "    .dataframe tbody tr th:only-of-type {\n",
       "        vertical-align: middle;\n",
       "    }\n",
       "\n",
       "    .dataframe tbody tr th {\n",
       "        vertical-align: top;\n",
       "    }\n",
       "\n",
       "    .dataframe thead th {\n",
       "        text-align: right;\n",
       "    }\n",
       "</style>\n",
       "<table border=\"1\" class=\"dataframe\">\n",
       "  <thead>\n",
       "    <tr style=\"text-align: right;\">\n",
       "      <th></th>\n",
       "      <th>id</th>\n",
       "      <th>genre</th>\n",
       "    </tr>\n",
       "  </thead>\n",
       "  <tbody>\n",
       "    <tr>\n",
       "      <th>0</th>\n",
       "      <td>1000001</td>\n",
       "      <td>Comedy</td>\n",
       "    </tr>\n",
       "    <tr>\n",
       "      <th>1</th>\n",
       "      <td>1000001</td>\n",
       "      <td>Adventure</td>\n",
       "    </tr>\n",
       "    <tr>\n",
       "      <th>2</th>\n",
       "      <td>1000002</td>\n",
       "      <td>Comedy</td>\n",
       "    </tr>\n",
       "    <tr>\n",
       "      <th>3</th>\n",
       "      <td>1000002</td>\n",
       "      <td>Thriller</td>\n",
       "    </tr>\n",
       "    <tr>\n",
       "      <th>4</th>\n",
       "      <td>1000002</td>\n",
       "      <td>Drama</td>\n",
       "    </tr>\n",
       "  </tbody>\n",
       "</table>\n",
       "</div>"
      ],
      "text/plain": [
       "\n",
       "        id      genre\n",
       "\u001b[1;36m0\u001b[0m  \u001b[1;36m1000001\u001b[0m     Comedy\n",
       "\u001b[1;36m1\u001b[0m  \u001b[1;36m1000001\u001b[0m  Adventure\n",
       "\u001b[1;36m2\u001b[0m  \u001b[1;36m1000002\u001b[0m     Comedy\n",
       "\u001b[1;36m3\u001b[0m  \u001b[1;36m1000002\u001b[0m   Thriller\n",
       "\u001b[1;36m4\u001b[0m  \u001b[1;36m1000002\u001b[0m      Drama"
      ]
     },
     "metadata": {},
     "output_type": "display_data"
    },
    {
     "name": "stdout",
     "output_type": "stream",
     "text": [
      "dtypes por columna:\n"
     ]
    },
    {
     "data": {
      "text/html": [
       "<pre style=\"white-space:pre;overflow-x:auto;line-height:normal;font-family:Menlo,'DejaVu Sans Mono',consolas,'Courier New',monospace\"></pre>\n"
      ],
      "text/plain": []
     },
     "metadata": {},
     "output_type": "display_data"
    },
    {
     "data": {
      "text/html": [
       "<div>\n",
       "<style scoped>\n",
       "    .dataframe tbody tr th:only-of-type {\n",
       "        vertical-align: middle;\n",
       "    }\n",
       "\n",
       "    .dataframe tbody tr th {\n",
       "        vertical-align: top;\n",
       "    }\n",
       "\n",
       "    .dataframe thead th {\n",
       "        text-align: right;\n",
       "    }\n",
       "</style>\n",
       "<table border=\"1\" class=\"dataframe\">\n",
       "  <thead>\n",
       "    <tr style=\"text-align: right;\">\n",
       "      <th></th>\n",
       "      <th>column</th>\n",
       "      <th>dtype</th>\n",
       "    </tr>\n",
       "  </thead>\n",
       "  <tbody>\n",
       "    <tr>\n",
       "      <th>id</th>\n",
       "      <td>id</td>\n",
       "      <td>int64</td>\n",
       "    </tr>\n",
       "    <tr>\n",
       "      <th>genre</th>\n",
       "      <td>genre</td>\n",
       "      <td>object</td>\n",
       "    </tr>\n",
       "  </tbody>\n",
       "</table>\n",
       "</div>"
      ],
      "text/plain": [
       "\n",
       "      column   dtype\n",
       "id        id   int64\n",
       "genre  genre  object"
      ]
     },
     "metadata": {},
     "output_type": "display_data"
    },
    {
     "name": "stdout",
     "output_type": "stream",
     "text": [
      "\n",
      "=== DATASET: countries ===\n",
      "shape: (693476, 2)\n"
     ]
    },
    {
     "data": {
      "text/html": [
       "<pre style=\"white-space:pre;overflow-x:auto;line-height:normal;font-family:Menlo,'DejaVu Sans Mono',consolas,'Courier New',monospace\"></pre>\n"
      ],
      "text/plain": []
     },
     "metadata": {},
     "output_type": "display_data"
    },
    {
     "data": {
      "text/html": [
       "<div>\n",
       "<style scoped>\n",
       "    .dataframe tbody tr th:only-of-type {\n",
       "        vertical-align: middle;\n",
       "    }\n",
       "\n",
       "    .dataframe tbody tr th {\n",
       "        vertical-align: top;\n",
       "    }\n",
       "\n",
       "    .dataframe thead th {\n",
       "        text-align: right;\n",
       "    }\n",
       "</style>\n",
       "<table border=\"1\" class=\"dataframe\">\n",
       "  <thead>\n",
       "    <tr style=\"text-align: right;\">\n",
       "      <th></th>\n",
       "      <th>id</th>\n",
       "      <th>country</th>\n",
       "    </tr>\n",
       "  </thead>\n",
       "  <tbody>\n",
       "    <tr>\n",
       "      <th>0</th>\n",
       "      <td>1000001</td>\n",
       "      <td>UK</td>\n",
       "    </tr>\n",
       "    <tr>\n",
       "      <th>1</th>\n",
       "      <td>1000001</td>\n",
       "      <td>USA</td>\n",
       "    </tr>\n",
       "    <tr>\n",
       "      <th>2</th>\n",
       "      <td>1000002</td>\n",
       "      <td>South Korea</td>\n",
       "    </tr>\n",
       "    <tr>\n",
       "      <th>3</th>\n",
       "      <td>1000003</td>\n",
       "      <td>USA</td>\n",
       "    </tr>\n",
       "    <tr>\n",
       "      <th>4</th>\n",
       "      <td>1000004</td>\n",
       "      <td>Germany</td>\n",
       "    </tr>\n",
       "  </tbody>\n",
       "</table>\n",
       "</div>"
      ],
      "text/plain": [
       "\n",
       "        id      country\n",
       "\u001b[1;36m0\u001b[0m  \u001b[1;36m1000001\u001b[0m           UK\n",
       "\u001b[1;36m1\u001b[0m  \u001b[1;36m1000001\u001b[0m          USA\n",
       "\u001b[1;36m2\u001b[0m  \u001b[1;36m1000002\u001b[0m  South Korea\n",
       "\u001b[1;36m3\u001b[0m  \u001b[1;36m1000003\u001b[0m          USA\n",
       "\u001b[1;36m4\u001b[0m  \u001b[1;36m1000004\u001b[0m      Germany"
      ]
     },
     "metadata": {},
     "output_type": "display_data"
    },
    {
     "name": "stdout",
     "output_type": "stream",
     "text": [
      "dtypes por columna:\n"
     ]
    },
    {
     "data": {
      "text/html": [
       "<pre style=\"white-space:pre;overflow-x:auto;line-height:normal;font-family:Menlo,'DejaVu Sans Mono',consolas,'Courier New',monospace\"></pre>\n"
      ],
      "text/plain": []
     },
     "metadata": {},
     "output_type": "display_data"
    },
    {
     "data": {
      "text/html": [
       "<div>\n",
       "<style scoped>\n",
       "    .dataframe tbody tr th:only-of-type {\n",
       "        vertical-align: middle;\n",
       "    }\n",
       "\n",
       "    .dataframe tbody tr th {\n",
       "        vertical-align: top;\n",
       "    }\n",
       "\n",
       "    .dataframe thead th {\n",
       "        text-align: right;\n",
       "    }\n",
       "</style>\n",
       "<table border=\"1\" class=\"dataframe\">\n",
       "  <thead>\n",
       "    <tr style=\"text-align: right;\">\n",
       "      <th></th>\n",
       "      <th>column</th>\n",
       "      <th>dtype</th>\n",
       "    </tr>\n",
       "  </thead>\n",
       "  <tbody>\n",
       "    <tr>\n",
       "      <th>id</th>\n",
       "      <td>id</td>\n",
       "      <td>int64</td>\n",
       "    </tr>\n",
       "    <tr>\n",
       "      <th>country</th>\n",
       "      <td>country</td>\n",
       "      <td>object</td>\n",
       "    </tr>\n",
       "  </tbody>\n",
       "</table>\n",
       "</div>"
      ],
      "text/plain": [
       "\n",
       "          column   dtype\n",
       "id            id   int64\n",
       "country  country  object"
      ]
     },
     "metadata": {},
     "output_type": "display_data"
    }
   ],
   "source": [
    "from IPython.display import display\n",
    "\n",
    "releases  = dfs[\"releases\"].copy()\n",
    "genres    = dfs[\"genres\"].copy()\n",
    "countries = dfs[\"countries\"].copy()\n",
    "\n",
    "for name, df in {\"releases\": releases, \"genres\": genres, \"countries\": countries}.items():\n",
    "    print(f\"\\n=== DATASET: {name} ===\")\n",
    "    print(\"shape:\", df.shape)\n",
    "    display(df.head(5))\n",
    "    schema = pd.DataFrame({\"column\": df.columns, \"dtype\": df.dtypes.astype(str)})\n",
    "    print(\"dtypes por columna:\")\n",
    "    display(schema)\n"
   ]
  },
  {
   "cell_type": "markdown",
   "id": "bf3c9593-4242-4aac-a327-dfb0891e295e",
   "metadata": {},
   "source": [
    "Se crean copias para no modificar los DataFrames originales guardados en dfs y confirmamos que devuelven lo mismo que en el punto \"Recolectar datos iniciales\" (esto porque según la rúbrica de la evaluación el limpiado de datos va en la fase 3)"
   ]
  },
  {
   "cell_type": "markdown",
   "id": "08594d8b-5a29-4533-b8c2-e257d7b999b9",
   "metadata": {
    "jp-MarkdownHeadingCollapsed": true
   },
   "source": [
    "## Medidas de tendencia central por dataset"
   ]
  },
  {
   "cell_type": "code",
   "execution_count": 25,
   "id": "3f8fd019-36b5-48c9-9967-d2ce985188a3",
   "metadata": {},
   "outputs": [
    {
     "name": "stdout",
     "output_type": "stream",
     "text": [
      "========================================\n",
      "\n",
      "=== Medidas de tendencia central — releases ===\n",
      "========================================\n",
      "Numéricas: (sin columnas numéricas relevantes)\n",
      "Categóricas (moda, frecuencia, participación):\n"
     ]
    },
    {
     "data": {
      "text/html": [
       "<pre style=\"white-space:pre;overflow-x:auto;line-height:normal;font-family:Menlo,'DejaVu Sans Mono',consolas,'Courier New',monospace\"></pre>\n"
      ],
      "text/plain": []
     },
     "metadata": {},
     "output_type": "display_data"
    },
    {
     "data": {
      "text/html": [
       "<div>\n",
       "<style scoped>\n",
       "    .dataframe tbody tr th:only-of-type {\n",
       "        vertical-align: middle;\n",
       "    }\n",
       "\n",
       "    .dataframe tbody tr th {\n",
       "        vertical-align: top;\n",
       "    }\n",
       "\n",
       "    .dataframe thead th {\n",
       "        text-align: right;\n",
       "    }\n",
       "</style>\n",
       "<table border=\"1\" class=\"dataframe\">\n",
       "  <thead>\n",
       "    <tr style=\"text-align: right;\">\n",
       "      <th></th>\n",
       "      <th>column</th>\n",
       "      <th>mode</th>\n",
       "      <th>mode_freq</th>\n",
       "      <th>mode_share</th>\n",
       "    </tr>\n",
       "  </thead>\n",
       "  <tbody>\n",
       "    <tr>\n",
       "      <th>3</th>\n",
       "      <td>rating</td>\n",
       "      <td>NaN</td>\n",
       "      <td>998802</td>\n",
       "      <td>0.7494</td>\n",
       "    </tr>\n",
       "    <tr>\n",
       "      <th>2</th>\n",
       "      <td>type</td>\n",
       "      <td>Theatrical</td>\n",
       "      <td>750043</td>\n",
       "      <td>0.5628</td>\n",
       "    </tr>\n",
       "    <tr>\n",
       "      <th>0</th>\n",
       "      <td>country</td>\n",
       "      <td>USA</td>\n",
       "      <td>320901</td>\n",
       "      <td>0.2408</td>\n",
       "    </tr>\n",
       "    <tr>\n",
       "      <th>1</th>\n",
       "      <td>date</td>\n",
       "      <td>2006-01-01</td>\n",
       "      <td>3050</td>\n",
       "      <td>0.0023</td>\n",
       "    </tr>\n",
       "  </tbody>\n",
       "</table>\n",
       "</div>"
      ],
      "text/plain": [
       "\n",
       "    column        mode  mode_freq  mode_share\n",
       "\u001b[1;36m3\u001b[0m   rating         NaN     \u001b[1;36m998802\u001b[0m      \u001b[1;36m0.7494\u001b[0m\n",
       "\u001b[1;36m2\u001b[0m     type  Theatrical     \u001b[1;36m750043\u001b[0m      \u001b[1;36m0.5628\u001b[0m\n",
       "\u001b[1;36m0\u001b[0m  country         USA     \u001b[1;36m320901\u001b[0m      \u001b[1;36m0.2408\u001b[0m\n",
       "\u001b[1;36m1\u001b[0m     date  \u001b[1;36m2006\u001b[0m-\u001b[1;36m01\u001b[0m-\u001b[1;36m01\u001b[0m       \u001b[1;36m3050\u001b[0m      \u001b[1;36m0.0023\u001b[0m"
      ]
     },
     "metadata": {},
     "output_type": "display_data"
    },
    {
     "name": "stdout",
     "output_type": "stream",
     "text": [
      "Mediana de fecha (date): 2012-10-23 00:00:00\n",
      "========================================\n",
      "\n",
      "=== Medidas de tendencia central — genres ===\n",
      "========================================\n",
      "Numéricas: (sin columnas numéricas relevantes)\n",
      "Categóricas (moda, frecuencia, participación):\n"
     ]
    },
    {
     "data": {
      "text/html": [
       "<pre style=\"white-space:pre;overflow-x:auto;line-height:normal;font-family:Menlo,'DejaVu Sans Mono',consolas,'Courier New',monospace\"></pre>\n"
      ],
      "text/plain": []
     },
     "metadata": {},
     "output_type": "display_data"
    },
    {
     "data": {
      "text/html": [
       "<div>\n",
       "<style scoped>\n",
       "    .dataframe tbody tr th:only-of-type {\n",
       "        vertical-align: middle;\n",
       "    }\n",
       "\n",
       "    .dataframe tbody tr th {\n",
       "        vertical-align: top;\n",
       "    }\n",
       "\n",
       "    .dataframe thead th {\n",
       "        text-align: right;\n",
       "    }\n",
       "</style>\n",
       "<table border=\"1\" class=\"dataframe\">\n",
       "  <thead>\n",
       "    <tr style=\"text-align: right;\">\n",
       "      <th></th>\n",
       "      <th>column</th>\n",
       "      <th>mode</th>\n",
       "      <th>mode_freq</th>\n",
       "      <th>mode_share</th>\n",
       "    </tr>\n",
       "  </thead>\n",
       "  <tbody>\n",
       "    <tr>\n",
       "      <th>0</th>\n",
       "      <td>genre</td>\n",
       "      <td>Drama</td>\n",
       "      <td>232201</td>\n",
       "      <td>0.2218</td>\n",
       "    </tr>\n",
       "  </tbody>\n",
       "</table>\n",
       "</div>"
      ],
      "text/plain": [
       "\n",
       "  column   mode  mode_freq  mode_share\n",
       "\u001b[1;36m0\u001b[0m  genre  Drama     \u001b[1;36m232201\u001b[0m      \u001b[1;36m0.2218\u001b[0m"
      ]
     },
     "metadata": {},
     "output_type": "display_data"
    },
    {
     "name": "stdout",
     "output_type": "stream",
     "text": [
      "========================================\n",
      "\n",
      "=== Medidas de tendencia central — countries ===\n",
      "========================================\n",
      "Numéricas: (sin columnas numéricas relevantes)\n",
      "Categóricas (moda, frecuencia, participación):\n"
     ]
    },
    {
     "data": {
      "text/html": [
       "<pre style=\"white-space:pre;overflow-x:auto;line-height:normal;font-family:Menlo,'DejaVu Sans Mono',consolas,'Courier New',monospace\"></pre>\n"
      ],
      "text/plain": []
     },
     "metadata": {},
     "output_type": "display_data"
    },
    {
     "data": {
      "text/html": [
       "<div>\n",
       "<style scoped>\n",
       "    .dataframe tbody tr th:only-of-type {\n",
       "        vertical-align: middle;\n",
       "    }\n",
       "\n",
       "    .dataframe tbody tr th {\n",
       "        vertical-align: top;\n",
       "    }\n",
       "\n",
       "    .dataframe thead th {\n",
       "        text-align: right;\n",
       "    }\n",
       "</style>\n",
       "<table border=\"1\" class=\"dataframe\">\n",
       "  <thead>\n",
       "    <tr style=\"text-align: right;\">\n",
       "      <th></th>\n",
       "      <th>column</th>\n",
       "      <th>mode</th>\n",
       "      <th>mode_freq</th>\n",
       "      <th>mode_share</th>\n",
       "    </tr>\n",
       "  </thead>\n",
       "  <tbody>\n",
       "    <tr>\n",
       "      <th>0</th>\n",
       "      <td>country</td>\n",
       "      <td>USA</td>\n",
       "      <td>174489</td>\n",
       "      <td>0.2516</td>\n",
       "    </tr>\n",
       "  </tbody>\n",
       "</table>\n",
       "</div>"
      ],
      "text/plain": [
       "\n",
       "    column mode  mode_freq  mode_share\n",
       "\u001b[1;36m0\u001b[0m  country  USA     \u001b[1;36m174489\u001b[0m      \u001b[1;36m0.2516\u001b[0m"
      ]
     },
     "metadata": {},
     "output_type": "display_data"
    }
   ],
   "source": [
    "# Medidas de tendencia central (media, mediana, moda) por dataset\n",
    "import pandas as pd\n",
    "import numpy as np\n",
    "from IPython.display import display\n",
    "\n",
    "def central_tendency_by_dataset(df, dataset_name, date_col=None):\n",
    "    print(\"=\"*40)\n",
    "    print(f\"\\n=== Medidas de tendencia central — {dataset_name} ===\")\n",
    "    print(\"=\"*40)\n",
    "    \n",
    "    # Numéricas: media y mediana (excluye 'id')\n",
    "    num = df.select_dtypes(include=[np.number]).drop(columns=[\"id\"], errors=\"ignore\")\n",
    "    if num.shape[1] > 0:\n",
    "        out_num = pd.DataFrame({\n",
    "            \"mean\": num.mean(numeric_only=True),\n",
    "            \"median\": num.median(numeric_only=True)\n",
    "        })\n",
    "        print(\"Numéricas (media, mediana):\")\n",
    "        display(out_num.round(4))\n",
    "    else:\n",
    "        print(\"Numéricas: (sin columnas numéricas relevantes)\")\n",
    "    \n",
    "    # Categóricas: moda (valor más frecuente)\n",
    "    cat_cols = df.select_dtypes(include=[\"object\"]).columns.tolist()\n",
    "    if cat_cols:\n",
    "        rows, n = [], len(df)\n",
    "        for c in cat_cols:\n",
    "            vc = df[c].value_counts(dropna=False)\n",
    "            mode_val = vc.index[0] if len(vc) else None\n",
    "            mode_freq = int(vc.iloc[0]) if len(vc) else 0\n",
    "            mode_share = (mode_freq / n) if n else np.nan\n",
    "            rows.append({\"column\": c, \"mode\": mode_val, \"mode_freq\": mode_freq, \"mode_share\": round(mode_share, 4)})\n",
    "        print(\"Categóricas (moda, frecuencia, participación):\")\n",
    "        display(pd.DataFrame(rows).sort_values(\"mode_share\", ascending=False))\n",
    "    else:\n",
    "        print(\"Categóricas: (sin columnas categóricas)\")\n",
    "    \n",
    "    # Fechas: mediana (si aplica)\n",
    "    if date_col and date_col in df.columns:\n",
    "        s = pd.to_datetime(df[date_col], errors=\"coerce\", utc=True).dt.tz_localize(None)\n",
    "        med = s.median() if s.notna().any() else None\n",
    "        print(f\"Mediana de fecha ({date_col}): {med}\")\n",
    "\n",
    "# Usa los DataFrames ya cargados en tu sesión:\n",
    "releases  = dfs[\"releases\"].copy()\n",
    "genres    = dfs[\"genres\"].copy()\n",
    "countries = dfs[\"countries\"].copy()\n",
    "\n",
    "central_tendency_by_dataset(releases,  \"releases\",  date_col=\"date\")\n",
    "central_tendency_by_dataset(genres,    \"genres\")\n",
    "central_tendency_by_dataset(countries, \"countries\")\n"
   ]
  },
  {
   "cell_type": "markdown",
   "id": "0bf5c110-87ee-4640-92ea-ba7ec21cd260",
   "metadata": {},
   "source": [
    "**Releases**\n",
    "\n",
    "*   **Numéricas:** no hay columnas numéricas relevantes (excluimos id), por eso no se reportan media/mediana numérica.\n",
    "    \n",
    "*   **Categóricas (moda):**\n",
    "    \n",
    "    *   rating → **NaN** (faltante) con **74.94%** de los registros: confirma **alta ausencia** en certificaciones, coherente con evitar esta variable.\n",
    "        \n",
    "    *   type → **Theatrical** con **56.28%**: predomina el **estreno en cines** frente a otros tipos.\n",
    "        \n",
    "    *   country → **USA** con **24.08%**: EE. UU. concentra la mayor cantidad de **eventos de estreno** (recuerda que releases puede tener **múltiples filas por película**).\n",
    "        \n",
    "    *   date → **2006-01-01** con **0.23%**: la moda diaria es poco informativa por la **gran dispersión de fechas**.\n",
    "        \n",
    "*   **Fecha (mediana):** **2012-10-23**. Es un indicador más robusto del **centro temporal** del conjunto (muestra fuerte peso en los 2000s–2010s).\n",
    "    \n",
    "\n",
    "**Genres**\n",
    "\n",
    "*   **Numéricas:** no aplican.\n",
    "    \n",
    "*   **Categórica (moda):** genre → **Drama** con **22.18%** de las asignaciones. Importante: genres es **multi-etiqueta** (una película puede aportar a varios géneros), así que la moda refleja **etiquetas más frecuentes**, no “género principal”.\n",
    "    \n",
    "\n",
    "**Countries**\n",
    "\n",
    "*   **Numéricas:** no aplican.\n",
    "    \n",
    "*   **Categórica (moda):** country → **USA** con **25.16%** de las asociaciones. Este dataset también es **multi-país** (una película puede tener varios países asociados).\n",
    "    \n",
    "\n",
    "**Lecturas clave para el proyecto**\n",
    "\n",
    "*   La **altísima falta de rating** en releases justifica excluir esa columna.\n",
    "    \n",
    "*   EE. UU. aparece como **modo** tanto en releases.country como en countries.country, lo que confirma **alto volumen** para trabajar la hipótesis centrada en Estados Unidos.\n",
    "    \n",
    "*   La **mediana de date en 2012** sugiere que las décadas **2000–2009** y **2010–2019** tienen **mucha masa de datos**, alineado con el análisis por décadas."
   ]
  },
  {
   "cell_type": "markdown",
   "id": "34261518-fbe3-485e-98e2-af7f64d20693",
   "metadata": {
    "jp-MarkdownHeadingCollapsed": true
   },
   "source": [
    "## Medidas de dispersión por dataset"
   ]
  },
  {
   "cell_type": "code",
   "execution_count": 29,
   "id": "141c4652-17fe-4d49-918f-98f5d7e30065",
   "metadata": {},
   "outputs": [
    {
     "name": "stdout",
     "output_type": "stream",
     "text": [
      "========================================\n",
      "=== DISPERSIÓN — releases (numéricas) ===\n",
      "========================================\n"
     ]
    },
    {
     "data": {
      "text/html": [
       "<pre style=\"white-space:pre;overflow-x:auto;line-height:normal;font-family:Menlo,'DejaVu Sans Mono',consolas,'Courier New',monospace\"></pre>\n"
      ],
      "text/plain": []
     },
     "metadata": {},
     "output_type": "display_data"
    },
    {
     "data": {
      "text/html": [
       "<div>\n",
       "<style scoped>\n",
       "    .dataframe tbody tr th:only-of-type {\n",
       "        vertical-align: middle;\n",
       "    }\n",
       "\n",
       "    .dataframe tbody tr th {\n",
       "        vertical-align: top;\n",
       "    }\n",
       "\n",
       "    .dataframe thead th {\n",
       "        text-align: right;\n",
       "    }\n",
       "</style>\n",
       "<table border=\"1\" class=\"dataframe\">\n",
       "  <thead>\n",
       "    <tr style=\"text-align: right;\">\n",
       "      <th></th>\n",
       "      <th>note</th>\n",
       "    </tr>\n",
       "  </thead>\n",
       "  <tbody>\n",
       "    <tr>\n",
       "      <th>0</th>\n",
       "      <td>(sin columnas numéricas relevantes)</td>\n",
       "    </tr>\n",
       "  </tbody>\n",
       "</table>\n",
       "</div>"
      ],
      "text/plain": [
       "\n",
       "                                  note\n",
       "\u001b[1;36m0\u001b[0m  \u001b[1m(\u001b[0msin columnas numéricas relevantes\u001b[1m)\u001b[0m"
      ]
     },
     "metadata": {},
     "output_type": "display_data"
    },
    {
     "name": "stdout",
     "output_type": "stream",
     "text": [
      "========================================\n",
      "\n",
      "=== DISPERSIÓN — releases.fecha (en días) ===\n",
      "========================================\n"
     ]
    },
    {
     "data": {
      "text/html": [
       "<pre style=\"white-space:pre;overflow-x:auto;line-height:normal;font-family:Menlo,'DejaVu Sans Mono',consolas,'Courier New',monospace\"></pre>\n"
      ],
      "text/plain": []
     },
     "metadata": {},
     "output_type": "display_data"
    },
    {
     "data": {
      "text/html": [
       "<div>\n",
       "<style scoped>\n",
       "    .dataframe tbody tr th:only-of-type {\n",
       "        vertical-align: middle;\n",
       "    }\n",
       "\n",
       "    .dataframe tbody tr th {\n",
       "        vertical-align: top;\n",
       "    }\n",
       "\n",
       "    .dataframe thead th {\n",
       "        text-align: right;\n",
       "    }\n",
       "</style>\n",
       "<table border=\"1\" class=\"dataframe\">\n",
       "  <thead>\n",
       "    <tr style=\"text-align: right;\">\n",
       "      <th></th>\n",
       "      <th>var</th>\n",
       "      <th>std</th>\n",
       "      <th>range</th>\n",
       "      <th>cv</th>\n",
       "      <th>iqr</th>\n",
       "    </tr>\n",
       "  </thead>\n",
       "  <tbody>\n",
       "    <tr>\n",
       "      <th>date_days</th>\n",
       "      <td>8.405585e+07</td>\n",
       "      <td>9168.197483</td>\n",
       "      <td>82180.0</td>\n",
       "      <td>0.76722</td>\n",
       "      <td>9190.0</td>\n",
       "    </tr>\n",
       "  </tbody>\n",
       "</table>\n",
       "</div>"
      ],
      "text/plain": [
       "\n",
       "                    var          std    range       cv     iqr\n",
       "date_days  \u001b[1;36m8.405585e+07\u001b[0m  \u001b[1;36m9168.197483\u001b[0m  \u001b[1;36m82180.0\u001b[0m  \u001b[1;36m0.76722\u001b[0m  \u001b[1;36m9190.0\u001b[0m"
      ]
     },
     "metadata": {},
     "output_type": "display_data"
    },
    {
     "name": "stdout",
     "output_type": "stream",
     "text": [
      "========================================\n",
      "\n",
      "=== DISPERSIÓN — genres (numéricas) ===\n",
      "========================================\n"
     ]
    },
    {
     "data": {
      "text/html": [
       "<pre style=\"white-space:pre;overflow-x:auto;line-height:normal;font-family:Menlo,'DejaVu Sans Mono',consolas,'Courier New',monospace\"></pre>\n"
      ],
      "text/plain": []
     },
     "metadata": {},
     "output_type": "display_data"
    },
    {
     "data": {
      "text/html": [
       "<div>\n",
       "<style scoped>\n",
       "    .dataframe tbody tr th:only-of-type {\n",
       "        vertical-align: middle;\n",
       "    }\n",
       "\n",
       "    .dataframe tbody tr th {\n",
       "        vertical-align: top;\n",
       "    }\n",
       "\n",
       "    .dataframe thead th {\n",
       "        text-align: right;\n",
       "    }\n",
       "</style>\n",
       "<table border=\"1\" class=\"dataframe\">\n",
       "  <thead>\n",
       "    <tr style=\"text-align: right;\">\n",
       "      <th></th>\n",
       "      <th>note</th>\n",
       "    </tr>\n",
       "  </thead>\n",
       "  <tbody>\n",
       "    <tr>\n",
       "      <th>0</th>\n",
       "      <td>(sin columnas numéricas relevantes)</td>\n",
       "    </tr>\n",
       "  </tbody>\n",
       "</table>\n",
       "</div>"
      ],
      "text/plain": [
       "\n",
       "                                  note\n",
       "\u001b[1;36m0\u001b[0m  \u001b[1m(\u001b[0msin columnas numéricas relevantes\u001b[1m)\u001b[0m"
      ]
     },
     "metadata": {},
     "output_type": "display_data"
    },
    {
     "name": "stdout",
     "output_type": "stream",
     "text": [
      "========================================\n",
      "\n",
      "=== DISPERSIÓN — countries (numéricas) ===\n",
      "========================================\n"
     ]
    },
    {
     "data": {
      "text/html": [
       "<pre style=\"white-space:pre;overflow-x:auto;line-height:normal;font-family:Menlo,'DejaVu Sans Mono',consolas,'Courier New',monospace\"></pre>\n"
      ],
      "text/plain": []
     },
     "metadata": {},
     "output_type": "display_data"
    },
    {
     "data": {
      "text/html": [
       "<div>\n",
       "<style scoped>\n",
       "    .dataframe tbody tr th:only-of-type {\n",
       "        vertical-align: middle;\n",
       "    }\n",
       "\n",
       "    .dataframe tbody tr th {\n",
       "        vertical-align: top;\n",
       "    }\n",
       "\n",
       "    .dataframe thead th {\n",
       "        text-align: right;\n",
       "    }\n",
       "</style>\n",
       "<table border=\"1\" class=\"dataframe\">\n",
       "  <thead>\n",
       "    <tr style=\"text-align: right;\">\n",
       "      <th></th>\n",
       "      <th>note</th>\n",
       "    </tr>\n",
       "  </thead>\n",
       "  <tbody>\n",
       "    <tr>\n",
       "      <th>0</th>\n",
       "      <td>(sin columnas numéricas relevantes)</td>\n",
       "    </tr>\n",
       "  </tbody>\n",
       "</table>\n",
       "</div>"
      ],
      "text/plain": [
       "\n",
       "                                  note\n",
       "\u001b[1;36m0\u001b[0m  \u001b[1m(\u001b[0msin columnas numéricas relevantes\u001b[1m)\u001b[0m"
      ]
     },
     "metadata": {},
     "output_type": "display_data"
    }
   ],
   "source": [
    "# Medidas de dispersión por dataset: varianza, desviación estándar, rango, coeficiente de variación, IQR\n",
    "import pandas as pd\n",
    "import numpy as np\n",
    "from IPython.display import display\n",
    "\n",
    "def _numeric(df):\n",
    "    \"\"\"Selecciona columnas numéricas relevantes (excluye 'id').\"\"\"\n",
    "    return df.select_dtypes(include=[np.number]).drop(columns=[\"id\"], errors=\"ignore\")\n",
    "\n",
    "def _metrics(series: pd.Series) -> pd.Series:\n",
    "    \"\"\"Calcula var, std, rango, coef. variación, IQR para una serie numérica.\"\"\"\n",
    "    s = series.dropna()\n",
    "    if s.empty:\n",
    "        return pd.Series({\"var\": np.nan, \"std\": np.nan, \"range\": np.nan, \"cv\": np.nan, \"iqr\": np.nan})\n",
    "    var = s.var()  # ddof=1 (muestra)\n",
    "    std = s.std()  # ddof=1\n",
    "    rng = s.max() - s.min()\n",
    "    mean = s.mean()\n",
    "    with np.errstate(divide=\"ignore\", invalid=\"ignore\"):\n",
    "        cv = std / mean if mean not in (0, np.nan) else np.nan\n",
    "    q75, q25 = s.quantile(0.75), s.quantile(0.25)\n",
    "    iqr = q75 - q25\n",
    "    return pd.Series({\"var\": var, \"std\": std, \"range\": rng, \"cv\": cv, \"iqr\": iqr})\n",
    "\n",
    "def dispersion_table(df: pd.DataFrame) -> pd.DataFrame:\n",
    "    \"\"\"Tabla de dispersión para todas las columnas numéricas (excluyendo id).\"\"\"\n",
    "    num = _numeric(df)\n",
    "    if num.shape[1] == 0:\n",
    "        return pd.DataFrame({\"note\": [\"(sin columnas numéricas relevantes)\"]})\n",
    "    rows = []\n",
    "    for col in num.columns:\n",
    "        m = _metrics(num[col])\n",
    "        m.name = col\n",
    "        rows.append(m)\n",
    "    return pd.DataFrame(rows).round(6)\n",
    "\n",
    "def _date_to_days(df: pd.DataFrame, date_col: str):\n",
    "    \"\"\"Convierte una columna de fecha a días (float) para calcular dispersión temporal.\"\"\"\n",
    "    if date_col not in df.columns:\n",
    "        return None\n",
    "    s = pd.to_datetime(df[date_col], errors=\"coerce\", utc=True).dt.tz_localize(None).dropna()\n",
    "    if s.empty:\n",
    "        return None\n",
    "    # ns -> s -> días (uso astype para evitar FutureWarning)\n",
    "    days = (s.astype(\"int64\") / 1e9) / 86400.0\n",
    "    return pd.Series(days, index=s.index)\n",
    "\n",
    "# DataFrames ya cargados en tu sesión:\n",
    "releases  = dfs[\"releases\"].copy()\n",
    "genres    = dfs[\"genres\"].copy()\n",
    "countries = dfs[\"countries\"].copy()\n",
    "\n",
    "print(\"=\"*40)\n",
    "print(\"=== DISPERSIÓN — releases (numéricas) ===\")\n",
    "print(\"=\"*40)\n",
    "display(dispersion_table(releases))\n",
    "\n",
    "# Extra: dispersión temporal de 'date' en días (útil porque suele no haber numéricas aparte de 'id')\n",
    "print(\"=\"*40)\n",
    "print(\"\\n=== DISPERSIÓN — releases.fecha (en días) ===\")\n",
    "print(\"=\"*40)\n",
    "rel_days = _date_to_days(releases, \"date\")\n",
    "if rel_days is not None:\n",
    "    display(pd.DataFrame([_metrics(rel_days)], index=[\"date_days\"]).round(6))\n",
    "else:\n",
    "    print(\"(columna 'date' no parseable o ausente)\")\n",
    "\n",
    "print(\"=\"*40)\n",
    "print(\"\\n=== DISPERSIÓN — genres (numéricas) ===\")\n",
    "print(\"=\"*40)\n",
    "display(dispersion_table(genres))\n",
    "\n",
    "print(\"=\"*40)\n",
    "print(\"\\n=== DISPERSIÓN — countries (numéricas) ===\")\n",
    "print(\"=\"*40)\n",
    "display(dispersion_table(countries))\n"
   ]
  },
  {
   "cell_type": "markdown",
   "id": "b3d9a1aa-6bab-481b-a961-a63b3e890390",
   "metadata": {},
   "source": [
    "**Releases (fecha en días)**\n",
    "\n",
    "*   **Rango:** 82 180 días ≈ **225.2 años** → hay estrenos muy antiguos y muy recientes; la ventana temporal es **extremadamente amplia**.\n",
    "    \n",
    "*   **Desviación estándar:** 9 168.20 días ≈ **25.1 años** → alta variabilidad temporal.\n",
    "    \n",
    "*   **IQR (P75–P25):** 9 190 días ≈ **25.2 años** → el 50% central de fechas también está muy disperso.\n",
    "    \n",
    "*   **Varianza:** 8.41×10⁷ días² → consistente con la gran dispersión.\n",
    "    \n",
    "*   **Coeficiente de variación (CV ≈ 0.77):** calculado sobre “días desde epoch”; sirve como indicador relativo, pero **es menos intuitivo** para fechas. Úsalo solo como referencia.\n",
    "    \n",
    "\n",
    "**Genres / Countries**\n",
    "\n",
    "*   No hay columnas numéricas (excluimos id), por eso no se reportan varianza, desviación, rango, CV e IQR para estos datasets.\n",
    "    \n",
    "\n",
    "**Conclusiones**\n",
    "\n",
    "*   Los estrenos cubren **muchas décadas**, lo que explica la dispersión tan alta. Si el análisis se centra en **2000–2019**, esto **se recortará en Fase 3 (Preparación)**; por ahora, en Fase 2, dejamos documentado el hallazgo."
   ]
  },
  {
   "cell_type": "markdown",
   "id": "9b53cfd4-f272-46d1-a887-88645e6e04b5",
   "metadata": {
    "jp-MarkdownHeadingCollapsed": true
   },
   "source": [
    "## Medidas de posición por dataset"
   ]
  },
  {
   "cell_type": "code",
   "execution_count": 30,
   "id": "e3e5aec5-8052-408d-b075-29dd7fe2e7ce",
   "metadata": {},
   "outputs": [
    {
     "name": "stdout",
     "output_type": "stream",
     "text": [
      "========================================\n",
      "=== POSICIÓN — releases (numéricas) ===\n",
      "========================================\n"
     ]
    },
    {
     "data": {
      "text/html": [
       "<pre style=\"white-space:pre;overflow-x:auto;line-height:normal;font-family:Menlo,'DejaVu Sans Mono',consolas,'Courier New',monospace\"></pre>\n"
      ],
      "text/plain": []
     },
     "metadata": {},
     "output_type": "display_data"
    },
    {
     "data": {
      "text/html": [
       "<div>\n",
       "<style scoped>\n",
       "    .dataframe tbody tr th:only-of-type {\n",
       "        vertical-align: middle;\n",
       "    }\n",
       "\n",
       "    .dataframe tbody tr th {\n",
       "        vertical-align: top;\n",
       "    }\n",
       "\n",
       "    .dataframe thead th {\n",
       "        text-align: right;\n",
       "    }\n",
       "</style>\n",
       "<table border=\"1\" class=\"dataframe\">\n",
       "  <thead>\n",
       "    <tr style=\"text-align: right;\">\n",
       "      <th></th>\n",
       "      <th>note</th>\n",
       "    </tr>\n",
       "  </thead>\n",
       "  <tbody>\n",
       "    <tr>\n",
       "      <th>0</th>\n",
       "      <td>(sin columnas numéricas relevantes)</td>\n",
       "    </tr>\n",
       "  </tbody>\n",
       "</table>\n",
       "</div>"
      ],
      "text/plain": [
       "\n",
       "                                  note\n",
       "\u001b[1;36m0\u001b[0m  \u001b[1m(\u001b[0msin columnas numéricas relevantes\u001b[1m)\u001b[0m"
      ]
     },
     "metadata": {},
     "output_type": "display_data"
    },
    {
     "name": "stdout",
     "output_type": "stream",
     "text": [
      "\n",
      "=== POSICIÓN — releases.fecha (date) ===\n"
     ]
    },
    {
     "data": {
      "text/html": [
       "<pre style=\"white-space:pre;overflow-x:auto;line-height:normal;font-family:Menlo,'DejaVu Sans Mono',consolas,'Courier New',monospace\"></pre>\n"
      ],
      "text/plain": []
     },
     "metadata": {},
     "output_type": "display_data"
    },
    {
     "data": {
      "text/html": [
       "<div>\n",
       "<style scoped>\n",
       "    .dataframe tbody tr th:only-of-type {\n",
       "        vertical-align: middle;\n",
       "    }\n",
       "\n",
       "    .dataframe tbody tr th {\n",
       "        vertical-align: top;\n",
       "    }\n",
       "\n",
       "    .dataframe thead th {\n",
       "        text-align: right;\n",
       "    }\n",
       "</style>\n",
       "<table border=\"1\" class=\"dataframe\">\n",
       "  <thead>\n",
       "    <tr style=\"text-align: right;\">\n",
       "      <th></th>\n",
       "      <th>count_valid</th>\n",
       "      <th>min</th>\n",
       "      <th>p10</th>\n",
       "      <th>p25</th>\n",
       "      <th>median</th>\n",
       "      <th>p75</th>\n",
       "      <th>p90</th>\n",
       "      <th>max</th>\n",
       "    </tr>\n",
       "  </thead>\n",
       "  <tbody>\n",
       "    <tr>\n",
       "      <th>date</th>\n",
       "      <td>1332782</td>\n",
       "      <td>1874-12-09</td>\n",
       "      <td>1965-10-07</td>\n",
       "      <td>1994-11-05</td>\n",
       "      <td>2012-10-23</td>\n",
       "      <td>2020-01-03</td>\n",
       "      <td>2022-12-23</td>\n",
       "      <td>2099-12-09</td>\n",
       "    </tr>\n",
       "  </tbody>\n",
       "</table>\n",
       "</div>"
      ],
      "text/plain": [
       "\n",
       "      count_valid        min        p10        p25     median        p75  \\\n",
       "date      \u001b[1;36m1332782\u001b[0m \u001b[1;36m1874\u001b[0m-\u001b[1;36m12\u001b[0m-\u001b[1;36m09\u001b[0m \u001b[1;36m1965\u001b[0m-\u001b[1;36m10\u001b[0m-\u001b[1;36m07\u001b[0m \u001b[1;36m1994\u001b[0m-\u001b[1;36m11\u001b[0m-\u001b[1;36m05\u001b[0m \u001b[1;36m2012\u001b[0m-\u001b[1;36m10\u001b[0m-\u001b[1;36m23\u001b[0m \u001b[1;36m2020\u001b[0m-\u001b[1;36m01\u001b[0m-\u001b[1;36m03\u001b[0m   \n",
       "\n",
       "            p90        max  \n",
       "date \u001b[1;36m2022\u001b[0m-\u001b[1;36m12\u001b[0m-\u001b[1;36m23\u001b[0m \u001b[1;36m2099\u001b[0m-\u001b[1;36m12\u001b[0m-\u001b[1;36m09\u001b[0m  "
      ]
     },
     "metadata": {},
     "output_type": "display_data"
    },
    {
     "name": "stdout",
     "output_type": "stream",
     "text": [
      "\n",
      "=======================================\n",
      "=== POSICIÓN — genres (numéricas) ===\n",
      "=======================================\n"
     ]
    },
    {
     "data": {
      "text/html": [
       "<pre style=\"white-space:pre;overflow-x:auto;line-height:normal;font-family:Menlo,'DejaVu Sans Mono',consolas,'Courier New',monospace\"></pre>\n"
      ],
      "text/plain": []
     },
     "metadata": {},
     "output_type": "display_data"
    },
    {
     "data": {
      "text/html": [
       "<div>\n",
       "<style scoped>\n",
       "    .dataframe tbody tr th:only-of-type {\n",
       "        vertical-align: middle;\n",
       "    }\n",
       "\n",
       "    .dataframe tbody tr th {\n",
       "        vertical-align: top;\n",
       "    }\n",
       "\n",
       "    .dataframe thead th {\n",
       "        text-align: right;\n",
       "    }\n",
       "</style>\n",
       "<table border=\"1\" class=\"dataframe\">\n",
       "  <thead>\n",
       "    <tr style=\"text-align: right;\">\n",
       "      <th></th>\n",
       "      <th>note</th>\n",
       "    </tr>\n",
       "  </thead>\n",
       "  <tbody>\n",
       "    <tr>\n",
       "      <th>0</th>\n",
       "      <td>(sin columnas numéricas relevantes)</td>\n",
       "    </tr>\n",
       "  </tbody>\n",
       "</table>\n",
       "</div>"
      ],
      "text/plain": [
       "\n",
       "                                  note\n",
       "\u001b[1;36m0\u001b[0m  \u001b[1m(\u001b[0msin columnas numéricas relevantes\u001b[1m)\u001b[0m"
      ]
     },
     "metadata": {},
     "output_type": "display_data"
    },
    {
     "name": "stdout",
     "output_type": "stream",
     "text": [
      "\n",
      "=========================================\n",
      "=== POSICIÓN — countries (numéricas) ===\n",
      "=========================================\n"
     ]
    },
    {
     "data": {
      "text/html": [
       "<pre style=\"white-space:pre;overflow-x:auto;line-height:normal;font-family:Menlo,'DejaVu Sans Mono',consolas,'Courier New',monospace\"></pre>\n"
      ],
      "text/plain": []
     },
     "metadata": {},
     "output_type": "display_data"
    },
    {
     "data": {
      "text/html": [
       "<div>\n",
       "<style scoped>\n",
       "    .dataframe tbody tr th:only-of-type {\n",
       "        vertical-align: middle;\n",
       "    }\n",
       "\n",
       "    .dataframe tbody tr th {\n",
       "        vertical-align: top;\n",
       "    }\n",
       "\n",
       "    .dataframe thead th {\n",
       "        text-align: right;\n",
       "    }\n",
       "</style>\n",
       "<table border=\"1\" class=\"dataframe\">\n",
       "  <thead>\n",
       "    <tr style=\"text-align: right;\">\n",
       "      <th></th>\n",
       "      <th>note</th>\n",
       "    </tr>\n",
       "  </thead>\n",
       "  <tbody>\n",
       "    <tr>\n",
       "      <th>0</th>\n",
       "      <td>(sin columnas numéricas relevantes)</td>\n",
       "    </tr>\n",
       "  </tbody>\n",
       "</table>\n",
       "</div>"
      ],
      "text/plain": [
       "\n",
       "                                  note\n",
       "\u001b[1;36m0\u001b[0m  \u001b[1m(\u001b[0msin columnas numéricas relevantes\u001b[1m)\u001b[0m"
      ]
     },
     "metadata": {},
     "output_type": "display_data"
    }
   ],
   "source": [
    "# Medidas de posición por dataset:\n",
    "# - Numéricas: conteo (non-null), suma, mínimo, p10, p25, mediana, p75, p90, máximo\n",
    "# - Fechas (releases.date): conteo válido, mínimo, p10, p25, mediana, p75, p90, máximo\n",
    "import pandas as pd\n",
    "import numpy as np\n",
    "from IPython.display import display\n",
    "\n",
    "def _numeric(df):\n",
    "    \"\"\"Selecciona columnas numéricas relevantes (excluye 'id').\"\"\"\n",
    "    return df.select_dtypes(include=[np.number]).drop(columns=[\"id\"], errors=\"ignore\")\n",
    "\n",
    "def numeric_position_table(df: pd.DataFrame) -> pd.DataFrame:\n",
    "    num = _numeric(df)\n",
    "    if num.shape[1] == 0:\n",
    "        return pd.DataFrame({\"note\": [\"(sin columnas numéricas relevantes)\"]})\n",
    "    desc = num.describe(percentiles=[.10, .25, .50, .75, .90]).T\n",
    "    # Renombrar percentiles para claridad y agregar suma total\n",
    "    desc = desc.rename(columns={\"count\":\"count\", \"mean\":\"mean\", \"std\":\"std\", \"min\":\"min\",\n",
    "                               \"10%\":\"p10\", \"25%\":\"p25\", \"50%\":\"median\", \"75%\":\"p75\", \"90%\":\"p90\", \"max\":\"max\"})\n",
    "    desc[\"sum\"] = num.sum()\n",
    "    # Ordenar columnas típicas de posición\n",
    "    cols = [\"count\", \"sum\", \"min\", \"p10\", \"p25\", \"median\", \"p75\", \"p90\", \"max\"]\n",
    "    return desc[cols].round(6)\n",
    "\n",
    "def date_position_table(df: pd.DataFrame, date_col: str) -> pd.DataFrame:\n",
    "    if date_col not in df.columns:\n",
    "        return pd.DataFrame({\"note\": [f\"(columna '{date_col}' no existe)\"]})\n",
    "    s = pd.to_datetime(df[date_col], errors=\"coerce\", utc=True).dt.tz_localize(None).dropna()\n",
    "    if s.empty:\n",
    "        return pd.DataFrame({\"note\": [f\"(no parseable '{date_col}')\"]})\n",
    "    qs = s.quantile([.10, .25, .50, .75, .90])\n",
    "    out = pd.DataFrame({\n",
    "        \"count_valid\": [s.shape[0]],\n",
    "        \"min\": [s.min()],\n",
    "        \"p10\": [qs.loc[0.10]],\n",
    "        \"p25\": [qs.loc[0.25]],\n",
    "        \"median\": [qs.loc[0.50]],\n",
    "        \"p75\": [qs.loc[0.75]],\n",
    "        \"p90\": [qs.loc[0.90]],\n",
    "        \"max\": [s.max()]\n",
    "    }, index=[date_col])\n",
    "    return out\n",
    "\n",
    "# DataFrames ya cargados en tu sesión\n",
    "releases  = dfs[\"releases\"].copy()\n",
    "genres    = dfs[\"genres\"].copy()\n",
    "countries = dfs[\"countries\"].copy()\n",
    "\n",
    "print(\"========================================\")\n",
    "print(\"=== POSICIÓN — releases (numéricas) ===\")\n",
    "print(\"========================================\")\n",
    "display(numeric_position_table(releases))\n",
    "\n",
    "print(\"\\n=== POSICIÓN — releases.fecha (date) ===\")\n",
    "display(date_position_table(releases, \"date\"))\n",
    "\n",
    "print(\"\\n=======================================\")\n",
    "print(\"=== POSICIÓN — genres (numéricas) ===\")\n",
    "print(\"=======================================\")\n",
    "display(numeric_position_table(genres))\n",
    "\n",
    "print(\"\\n=========================================\")\n",
    "print(\"=== POSICIÓN — countries (numéricas) ===\")\n",
    "print(\"=========================================\")\n",
    "display(numeric_position_table(countries))\n"
   ]
  },
  {
   "cell_type": "markdown",
   "id": "fc3f58f7-d6cc-4564-9bb3-68beff47ace8",
   "metadata": {},
   "source": [
    "**Releases (columna date)**\n",
    "\n",
    "*   **count\\_valid = 1,332,782**: todas las fechas se **pudieron parsear** (coincide con el total de filas de releases).\n",
    "    \n",
    "*   **mín = 1874-12-09**: fecha **muy anterior** al cine moderno → probable **outlier**/dato histórico mal registrado.\n",
    "    \n",
    "*   **p10 = 1965-10-07** y **p25 = 1994-11-05**: hay una cola de títulos **antiguos**.\n",
    "    \n",
    "*   **mediana = 2012-10-23**: el “centro” temporal cae en los **2010s**, consistente con mayor densidad reciente.\n",
    "    \n",
    "*   **p75 = 2020-01-03** y **p90 = 2022-12-23**: hay **bastante volumen** posterior a 2019.\n",
    "    \n",
    "*   **máx = 2099-12-09**: fecha **futura** → casi seguro **valor anómalo**/placeholder.\n",
    "    \n",
    "\n",
    "**Genres / Countries**\n",
    "\n",
    "*   No hay columnas numéricas (aparte de id, que excluimos), así que **mín/máx/suma/conteo numéricos no aplican** en estos dos datasets. Para ellos, las medidas útiles son las **categóricas** (p. ej., moda) que ya reportaste.\n",
    "    \n",
    "\n",
    "**Conclusiones**\n",
    "\n",
    "*   El rango temporal de releases es **extremadamente amplio** (1874–2099), con mediana en 2012: describe bien la **posición** del conjunto.\n",
    "    \n",
    "*   Se identifican **outliers temporales** (muy antiguos y futuros). **Solo se documenta** en Fase 2; el recorte a 2000–2019 o el tratamiento de outliers corresponderá a **Fase 3 (Preparación de datos)**."
   ]
  },
  {
   "cell_type": "markdown",
   "id": "0058ecd2-798e-489e-9982-11946d1e8734",
   "metadata": {},
   "source": [
    "# Verificar calidad de los datos"
   ]
  },
  {
   "cell_type": "markdown",
   "id": "76ad21bb-4c11-47a3-acee-2ad02a9ad440",
   "metadata": {},
   "source": [
    "## Hallazgos por dataset"
   ]
  },
  {
   "cell_type": "markdown",
   "id": "a46049ae-35a9-4e5b-8739-b00549c2e6bf",
   "metadata": {},
   "source": [
    "### 1) releases (id, country, date, type, rating)\n",
    "\n",
    "*   **Fechas (validez):** date es **parseable** (count\\_valid = 1,332,782).\n",
    "    \n",
    "    *   **Mín:** 1874-12-09 (muy antigua)\n",
    "        \n",
    "    *   **Mediana:** 2012-10-23\n",
    "        \n",
    "    *   **Máx:** 2099-12-09 (**futura**, probable placeholder)➜ **Riesgo:** rango temporal **excesivo** con outliers antiguos y futuros.\n",
    "        \n",
    "*   **Completitud:** rating tiene ~**74.94%** nulos (moda = NaN).➜ **Decisión:** **excluir** rating del análisis (no es fiable).\n",
    "    \n",
    "*   **Consistencia categórica:**\n",
    "    \n",
    "    *   type moda = **Theatrical** (valores esperados, p. ej. Theatrical/Digital).\n",
    "        \n",
    "    *   country incluye variantes de EE. UU. (p. ej., _USA/US/United States_).➜ **Necesita normalización** de países (documentado, sin ejecutar aún).\n",
    "        \n",
    "*   **Unicidad esperada (claves lógicas a auditar):**\n",
    "    \n",
    "    *   Por evento de estreno: **(id, country, type, date)**.➜ Verificar duplicados exactos sobre esa clave (documentado).\n",
    "        \n",
    "\n",
    "### 2) genres (id, genre)\n",
    "\n",
    "*   **Completitud:** sin nulos relevantes reportados.\n",
    "    \n",
    "*   **Categórica:** moda = **Drama** (~22.18%).\n",
    "    \n",
    "*   **Naturaleza:** relación **multi-etiqueta** (varios géneros por película).\n",
    "    \n",
    "*   **Unicidad esperada:** **(id, genre)** sin duplicados exactos.➜ Auditar duplicados exactos y, si existen, documentarlos.\n",
    "    \n",
    "\n",
    "### 3) countries (id, country)\n",
    "\n",
    "*   **Completitud:** sin nulos relevantes reportados.\n",
    "    \n",
    "*   **Categórica:** moda = **USA** (~25.16%).\n",
    "    \n",
    "*   **Naturaleza:** relación **multi-país** (varios países por película).\n",
    "    \n",
    "*   **Consistencia:** variantes de EE. UU. (USA/US/United States).\n",
    "    \n",
    "*   **Unicidad esperada:** **(id, country)** sin duplicados exactos.➜ Auditar duplicados exactos."
   ]
  },
  {
   "cell_type": "markdown",
   "id": "390c4ae3-fa30-4ca7-bb42-bff69d32caf5",
   "metadata": {},
   "source": [
    "## Conclusión de calidad\n",
    "------------------------------\n",
    "\n",
    "*   Los datasets **son aptos** para continuar con el análisis, con las siguientes **condiciones** ya identificadas:\n",
    "    \n",
    "    1.  **Excluir rating** (alta ausencia).\n",
    "        \n",
    "    2.  **Filtrar fechas a 2000–2019** y usar **primera fecha por película** para evitar reestrenos múltiples.\n",
    "        \n",
    "    3.  **Normalizar** el país “Estados Unidos” y otras variantes.\n",
    "        \n",
    "    4.  **Verificar/deduplicar** claves lógicas: releases (id, country, type, date), genres (id, genre), countries (id, country).\n",
    "        \n",
    "*   Estas acciones se **documentan ahora** y se **ejecutarán en Fase 3 (Preparación de datos)**."
   ]
  }
 ],
 "metadata": {
  "kernelspec": {
   "display_name": "Python (letterboxdml)",
   "language": "python",
   "name": "letterboxdml"
  },
  "language_info": {
   "codemirror_mode": {
    "name": "ipython",
    "version": 3
   },
   "file_extension": ".py",
   "mimetype": "text/x-python",
   "name": "python",
   "nbconvert_exporter": "python",
   "pygments_lexer": "ipython3",
   "version": "3.12.6"
  }
 },
 "nbformat": 4,
 "nbformat_minor": 5
}
