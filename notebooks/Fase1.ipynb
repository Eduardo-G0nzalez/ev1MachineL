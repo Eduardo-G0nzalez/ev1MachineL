{
 "cells": [
  {
   "cell_type": "markdown",
   "id": "b3d7615b-9ac2-4388-865b-ed67f437e2f5",
   "metadata": {},
   "source": [
    "# Fase 1: Comprensión del Negocio"
   ]
  },
  {
   "cell_type": "markdown",
   "id": "5c0d12db-eb43-4019-a3b7-bd92898f38ff",
   "metadata": {},
   "source": [
    "## Hipótesis / Objetivo de negocio"
   ]
  },
  {
   "cell_type": "markdown",
   "id": "77c3030c-c26f-4cc2-a31c-7b6ddb3106f5",
   "metadata": {},
   "source": [
    "Determinar si las preferencias de género en el mercado de EE. UU. cambiaron entre 2000–2009 y 2010–2019."
   ]
  },
  {
   "cell_type": "markdown",
   "id": "49224d64-8592-4ff1-85a0-5610526b8a52",
   "metadata": {},
   "source": [
    "## Evaluación de la situación actual"
   ]
  },
  {
   "cell_type": "markdown",
   "id": "f36ef8fa-3ffd-4ab9-a9b4-a7cfd1a9b999",
   "metadata": {},
   "source": [
    "*   **Disponibilidad:** countries.country y genres.genre sin nulos; releases.date utilizable.\n",
    "    \n",
    "*   **Volumen esperado:** alto para EE. UU.\n",
    "    \n",
    "*   **Riesgos acotados:** reestrenos (se usa **fecha mínima** por película), multi-género (convención: 1 conteo por género), multi-país (EE. UU. incluido), posibles fechas faltantes (se descartan y se reporta cobertura).\n",
    "    \n",
    "*   **Supuesto clave:** id es el identificador común de película."
   ]
  },
  {
   "cell_type": "markdown",
   "id": "a001d541-9d62-4b1a-8041-214d5e07d164",
   "metadata": {},
   "source": [
    "## Objetivos de Machine Learning"
   ]
  },
  {
   "cell_type": "markdown",
   "id": "6bc0d208-c63c-46b1-8091-efceddad9ef8",
   "metadata": {},
   "source": [
    "A futuro se podría realizar un modelo de proyección / predicción de tendencias."
   ]
  },
  {
   "cell_type": "markdown",
   "id": "8c569d7b-34cc-4e5a-bd85-1a6464392fca",
   "metadata": {},
   "source": [
    "## Plan del proyecto"
   ]
  },
  {
   "cell_type": "markdown",
   "id": "5fd592f7-4987-473d-bec9-a441c7478c66",
   "metadata": {},
   "source": [
    "1. Recolección de datos iniciales\n",
    "2. Análisis exploratorio\n",
    "3. Verificar calidad de los datos\n",
    "4. Preprocesamiento de los datos (Normalizar, parsear, transformar datos, crear variables necesarias, etc)"
   ]
  }
 ],
 "metadata": {
  "kernelspec": {
   "display_name": "Python (letterboxdml)",
   "language": "python",
   "name": "letterboxdml"
  },
  "language_info": {
   "codemirror_mode": {
    "name": "ipython",
    "version": 3
   },
   "file_extension": ".py",
   "mimetype": "text/x-python",
   "name": "python",
   "nbconvert_exporter": "python",
   "pygments_lexer": "ipython3",
   "version": "3.12.6"
  }
 },
 "nbformat": 4,
 "nbformat_minor": 5
}
